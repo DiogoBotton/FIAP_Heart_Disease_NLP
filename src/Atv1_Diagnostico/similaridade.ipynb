{
 "cells": [
  {
   "cell_type": "markdown",
   "id": "493f0fe3",
   "metadata": {},
   "source": [
    "### Calculando a similaridade das frases de pacientes com o mapa de conhecimento"
   ]
  },
  {
   "cell_type": "code",
   "execution_count": 1,
   "id": "d8ba2427",
   "metadata": {},
   "outputs": [],
   "source": [
    "import numpy as np\n",
    "import spacy\n",
    "import pandas as pd\n",
    "import seaborn as sns\n",
    "import matplotlib.pyplot as plt\n",
    "from unidecode import unidecode\n",
    "from sklearn.metrics import accuracy_score, classification_report, confusion_matrix"
   ]
  },
  {
   "cell_type": "code",
   "execution_count": 2,
   "id": "888a8634",
   "metadata": {},
   "outputs": [],
   "source": [
    "#!python -m spacy download pt_core_news_md"
   ]
  },
  {
   "cell_type": "markdown",
   "id": "3af2d95f",
   "metadata": {},
   "source": [
    "Importação do mapa de conhecimento."
   ]
  },
  {
   "cell_type": "code",
   "execution_count": 3,
   "id": "eecb0404",
   "metadata": {},
   "outputs": [
    {
     "data": {
      "text/html": [
       "<div>\n",
       "<style scoped>\n",
       "    .dataframe tbody tr th:only-of-type {\n",
       "        vertical-align: middle;\n",
       "    }\n",
       "\n",
       "    .dataframe tbody tr th {\n",
       "        vertical-align: top;\n",
       "    }\n",
       "\n",
       "    .dataframe thead th {\n",
       "        text-align: right;\n",
       "    }\n",
       "</style>\n",
       "<table border=\"1\" class=\"dataframe\">\n",
       "  <thead>\n",
       "    <tr style=\"text-align: right;\">\n",
       "      <th></th>\n",
       "      <th>sintoma</th>\n",
       "      <th>diagnostico</th>\n",
       "    </tr>\n",
       "  </thead>\n",
       "  <tbody>\n",
       "    <tr>\n",
       "      <th>0</th>\n",
       "      <td>Dor forte ou pressão intensa no peito</td>\n",
       "      <td>Infarto</td>\n",
       "    </tr>\n",
       "    <tr>\n",
       "      <th>1</th>\n",
       "      <td>Dor forte no tórax, suor frio repentino</td>\n",
       "      <td>Infarto</td>\n",
       "    </tr>\n",
       "    <tr>\n",
       "      <th>2</th>\n",
       "      <td>Dor forte ou aperto no coração</td>\n",
       "      <td>Infarto</td>\n",
       "    </tr>\n",
       "    <tr>\n",
       "      <th>3</th>\n",
       "      <td>Falta de ar súbita</td>\n",
       "      <td>Infarto</td>\n",
       "    </tr>\n",
       "    <tr>\n",
       "      <th>4</th>\n",
       "      <td>Náusea ou vômito associado a dor</td>\n",
       "      <td>Infarto</td>\n",
       "    </tr>\n",
       "  </tbody>\n",
       "</table>\n",
       "</div>"
      ],
      "text/plain": [
       "                                   sintoma diagnostico\n",
       "0    Dor forte ou pressão intensa no peito     Infarto\n",
       "1  Dor forte no tórax, suor frio repentino     Infarto\n",
       "2           Dor forte ou aperto no coração     Infarto\n",
       "3                       Falta de ar súbita     Infarto\n",
       "4         Náusea ou vômito associado a dor     Infarto"
      ]
     },
     "execution_count": 3,
     "metadata": {},
     "output_type": "execute_result"
    }
   ],
   "source": [
    "df_conhecimento = pd.read_csv('mapa_conhecimento.csv')\n",
    "df_conhecimento.head()"
   ]
  },
  {
   "cell_type": "markdown",
   "id": "1b66314d",
   "metadata": {},
   "source": [
    "Importação das frases de sintomas de pacientes."
   ]
  },
  {
   "cell_type": "code",
   "execution_count": 4,
   "id": "f9a82f2f",
   "metadata": {},
   "outputs": [
    {
     "data": {
      "text/html": [
       "<div>\n",
       "<style scoped>\n",
       "    .dataframe tbody tr th:only-of-type {\n",
       "        vertical-align: middle;\n",
       "    }\n",
       "\n",
       "    .dataframe tbody tr th {\n",
       "        vertical-align: top;\n",
       "    }\n",
       "\n",
       "    .dataframe thead th {\n",
       "        text-align: right;\n",
       "    }\n",
       "</style>\n",
       "<table border=\"1\" class=\"dataframe\">\n",
       "  <thead>\n",
       "    <tr style=\"text-align: right;\">\n",
       "      <th></th>\n",
       "      <th>frase</th>\n",
       "      <th>diagnostico</th>\n",
       "      <th>risco</th>\n",
       "    </tr>\n",
       "  </thead>\n",
       "  <tbody>\n",
       "    <tr>\n",
       "      <th>0</th>\n",
       "      <td>Sinto uma dor aguda no peito que surge ao subi...</td>\n",
       "      <td>Angina</td>\n",
       "      <td>Baixo Risco</td>\n",
       "    </tr>\n",
       "    <tr>\n",
       "      <th>1</th>\n",
       "      <td>Há dois dias, dor forte no peito irradia para ...</td>\n",
       "      <td>Infarto</td>\n",
       "      <td>Alto Risco</td>\n",
       "    </tr>\n",
       "    <tr>\n",
       "      <th>2</th>\n",
       "      <td>Estou exausto o dia todo, mesmo sem esforço, e...</td>\n",
       "      <td>Insuficiência Cardíaca</td>\n",
       "      <td>Baixo Risco</td>\n",
       "    </tr>\n",
       "    <tr>\n",
       "      <th>3</th>\n",
       "      <td>Meu coração acelera de repente durante reuniõe...</td>\n",
       "      <td>Arritmia</td>\n",
       "      <td>Alto Risco</td>\n",
       "    </tr>\n",
       "    <tr>\n",
       "      <th>4</th>\n",
       "      <td>Pressão no peito ao estressar no trabalho, ali...</td>\n",
       "      <td>Angina</td>\n",
       "      <td>Baixo Risco</td>\n",
       "    </tr>\n",
       "  </tbody>\n",
       "</table>\n",
       "</div>"
      ],
      "text/plain": [
       "                                               frase             diagnostico  \\\n",
       "0  Sinto uma dor aguda no peito que surge ao subi...                  Angina   \n",
       "1  Há dois dias, dor forte no peito irradia para ...                 Infarto   \n",
       "2  Estou exausto o dia todo, mesmo sem esforço, e...  Insuficiência Cardíaca   \n",
       "3  Meu coração acelera de repente durante reuniõe...                Arritmia   \n",
       "4  Pressão no peito ao estressar no trabalho, ali...                  Angina   \n",
       "\n",
       "         risco  \n",
       "0  Baixo Risco  \n",
       "1   Alto Risco  \n",
       "2  Baixo Risco  \n",
       "3   Alto Risco  \n",
       "4  Baixo Risco  "
      ]
     },
     "execution_count": 4,
     "metadata": {},
     "output_type": "execute_result"
    }
   ],
   "source": [
    "df_sintomas = pd.read_csv('../dataset/sintomas_doencas_cardiacas.csv')\n",
    "df_sintomas.head()"
   ]
  },
  {
   "cell_type": "markdown",
   "id": "f614c102",
   "metadata": {},
   "source": [
    "Importação do spaCy em português."
   ]
  },
  {
   "cell_type": "code",
   "execution_count": 5,
   "id": "a351d09b",
   "metadata": {},
   "outputs": [],
   "source": [
    "nlp = spacy.load(\"pt_core_news_md\")"
   ]
  },
  {
   "cell_type": "markdown",
   "id": "7f07fbb1",
   "metadata": {},
   "source": [
    "Função para calcular a similaridade utilizando spaCy."
   ]
  },
  {
   "cell_type": "code",
   "execution_count": 6,
   "id": "f58c56fd",
   "metadata": {},
   "outputs": [],
   "source": [
    "def calculate_similarity(texto1, texto2):\n",
    "    doc1 = nlp(texto1)\n",
    "    doc2 = nlp(texto2)\n",
    "    return doc1.similarity(doc2)"
   ]
  },
  {
   "cell_type": "markdown",
   "id": "67580b91",
   "metadata": {},
   "source": [
    "Função para realizar o pré-processamento dos textos."
   ]
  },
  {
   "cell_type": "code",
   "execution_count": 7,
   "id": "55e4b30b",
   "metadata": {},
   "outputs": [],
   "source": [
    "def text_processing(txt: str):\n",
    "    \"\"\"_summary_\n",
    "\n",
    "    Args:\n",
    "        txt (str): Texto a ser processado\n",
    "        \n",
    "    - Normaliza para minúsculas.\n",
    "    - Remove stopwords, pontuações, acentuações e digítos numéricos.\n",
    "    - Padroniza as palavras com a Lematização.\n",
    "    \"\"\"\n",
    "    txt = txt.lower()\n",
    "    doc = nlp(txt)\n",
    "    \n",
    "    words: list[str] = []\n",
    "    \n",
    "    for token in doc:\n",
    "        if not token.is_stop and not token.is_punct and token.is_alpha:\n",
    "            words.append(token.lemma_)\n",
    "    \n",
    "    words = ' '.join(unidecode(word) for word in words)\n",
    "    return words"
   ]
  },
  {
   "cell_type": "markdown",
   "id": "90872833",
   "metadata": {},
   "source": [
    "Realiza o pré-processamento para o dataset de sintomas e mapa de conhecimento."
   ]
  },
  {
   "cell_type": "code",
   "execution_count": 8,
   "id": "a92a1a59",
   "metadata": {},
   "outputs": [],
   "source": [
    "df_sintomas['frase_processada'] = df_sintomas['frase'].apply(text_processing)\n",
    "df_conhecimento['sintoma_processado'] = df_conhecimento['sintoma'].apply(text_processing)"
   ]
  },
  {
   "cell_type": "markdown",
   "id": "4431db72",
   "metadata": {},
   "source": [
    "### Teste com frases do dataset"
   ]
  },
  {
   "cell_type": "code",
   "execution_count": 9,
   "id": "6d226fb4",
   "metadata": {},
   "outputs": [
    {
     "data": {
      "text/plain": [
       "0.766546368598938"
      ]
     },
     "execution_count": 9,
     "metadata": {},
     "output_type": "execute_result"
    }
   ],
   "source": [
    "calculate_similarity(df_sintomas.loc[0, 'frase_processada'], df_conhecimento.loc[0, 'sintoma_processado'])"
   ]
  },
  {
   "cell_type": "markdown",
   "id": "4433e760",
   "metadata": {},
   "source": [
    "Testa frases de pacientes com todos os sintomas presentes no `mapa_conhecimento.csv`. A frase com maior similaridade será o possível diagnóstico."
   ]
  },
  {
   "cell_type": "code",
   "execution_count": 10,
   "id": "f576c42c",
   "metadata": {},
   "outputs": [],
   "source": [
    "predictions = []\n",
    "for _, row in df_sintomas.iterrows():\n",
    "    frase_paciente = row['frase_processada']\n",
    "    best_match = None\n",
    "    symptom_true = None\n",
    "    highest_similarity = 0.0\n",
    "    \n",
    "    for _, conhecimento in df_conhecimento.iterrows():\n",
    "        sintoma = conhecimento['sintoma_processado']\n",
    "        similarity = calculate_similarity(frase_paciente, sintoma)\n",
    "        \n",
    "        if similarity > highest_similarity:\n",
    "            highest_similarity = similarity\n",
    "            best_match = conhecimento['diagnostico']\n",
    "            symptom_true = row['diagnostico']\n",
    "    predictions.append((frase_paciente, best_match, symptom_true, highest_similarity))\n"
   ]
  },
  {
   "cell_type": "code",
   "execution_count": 11,
   "id": "1418680a",
   "metadata": {},
   "outputs": [
    {
     "data": {
      "text/html": [
       "<div>\n",
       "<style scoped>\n",
       "    .dataframe tbody tr th:only-of-type {\n",
       "        vertical-align: middle;\n",
       "    }\n",
       "\n",
       "    .dataframe tbody tr th {\n",
       "        vertical-align: top;\n",
       "    }\n",
       "\n",
       "    .dataframe thead th {\n",
       "        text-align: right;\n",
       "    }\n",
       "</style>\n",
       "<table border=\"1\" class=\"dataframe\">\n",
       "  <thead>\n",
       "    <tr style=\"text-align: right;\">\n",
       "      <th></th>\n",
       "      <th>frase</th>\n",
       "      <th>diagnostico_predito</th>\n",
       "      <th>diagnostico_real</th>\n",
       "      <th>similaridade</th>\n",
       "    </tr>\n",
       "  </thead>\n",
       "  <tbody>\n",
       "    <tr>\n",
       "      <th>0</th>\n",
       "      <td>sinto dor agudo peito surgir subir escada dura...</td>\n",
       "      <td>Arritmia</td>\n",
       "      <td>Angina</td>\n",
       "      <td>0.811854</td>\n",
       "    </tr>\n",
       "    <tr>\n",
       "      <th>1</th>\n",
       "      <td>haver dia dor forte peito irradio braco esquer...</td>\n",
       "      <td>Infarto</td>\n",
       "      <td>Infarto</td>\n",
       "      <td>0.836447</td>\n",
       "    </tr>\n",
       "    <tr>\n",
       "      <th>2</th>\n",
       "      <td>exausto dia esforco incho pe noite</td>\n",
       "      <td>Insuficiência Cardíaca</td>\n",
       "      <td>Insuficiência Cardíaca</td>\n",
       "      <td>0.431676</td>\n",
       "    </tr>\n",
       "    <tr>\n",
       "      <th>3</th>\n",
       "      <td>coracao acelerar repente durante reuniao sensa...</td>\n",
       "      <td>Arritmia</td>\n",
       "      <td>Arritmia</td>\n",
       "      <td>0.701287</td>\n",
       "    </tr>\n",
       "    <tr>\n",
       "      <th>4</th>\n",
       "      <td>pressao peito estressar trabalho aliviar sentar</td>\n",
       "      <td>Angina</td>\n",
       "      <td>Angina</td>\n",
       "      <td>0.798811</td>\n",
       "    </tr>\n",
       "  </tbody>\n",
       "</table>\n",
       "</div>"
      ],
      "text/plain": [
       "                                               frase     diagnostico_predito  \\\n",
       "0  sinto dor agudo peito surgir subir escada dura...                Arritmia   \n",
       "1  haver dia dor forte peito irradio braco esquer...                 Infarto   \n",
       "2                 exausto dia esforco incho pe noite  Insuficiência Cardíaca   \n",
       "3  coracao acelerar repente durante reuniao sensa...                Arritmia   \n",
       "4    pressao peito estressar trabalho aliviar sentar                  Angina   \n",
       "\n",
       "         diagnostico_real  similaridade  \n",
       "0                  Angina      0.811854  \n",
       "1                 Infarto      0.836447  \n",
       "2  Insuficiência Cardíaca      0.431676  \n",
       "3                Arritmia      0.701287  \n",
       "4                  Angina      0.798811  "
      ]
     },
     "execution_count": 11,
     "metadata": {},
     "output_type": "execute_result"
    }
   ],
   "source": [
    "df_predictions = pd.DataFrame(predictions, columns=['frase', 'diagnostico_predito', 'diagnostico_real', 'similaridade'])\n",
    "df_predictions.head()"
   ]
  },
  {
   "cell_type": "markdown",
   "id": "04628eeb",
   "metadata": {},
   "source": [
    "### Avaliação do método de verificação de similaridade das frases"
   ]
  },
  {
   "cell_type": "code",
   "execution_count": 12,
   "id": "2b55b52c",
   "metadata": {},
   "outputs": [],
   "source": [
    "labels = np.unique(df_conhecimento['diagnostico'])\n",
    "y_true, y_pred = df_sintomas['diagnostico'], df_predictions['diagnostico_predito']"
   ]
  },
  {
   "cell_type": "code",
   "execution_count": 13,
   "id": "1f0877a4",
   "metadata": {},
   "outputs": [
    {
     "name": "stdout",
     "output_type": "stream",
     "text": [
      "Acurácia de 53.00 %\n"
     ]
    }
   ],
   "source": [
    "acc = accuracy_score(y_true, y_pred)\n",
    "print(f\"Acurácia de {acc*100:.2f} %\")"
   ]
  },
  {
   "cell_type": "code",
   "execution_count": 14,
   "id": "21bf13c0",
   "metadata": {},
   "outputs": [
    {
     "name": "stdout",
     "output_type": "stream",
     "text": [
      "                        precision    recall  f1-score   support\n",
      "\n",
      "                Angina       0.40      0.62      0.48        26\n",
      "              Arritmia       0.52      0.60      0.56        25\n",
      "               Infarto       0.82      0.54      0.65        26\n",
      "Insuficiência Cardíaca       0.57      0.35      0.43        23\n",
      "\n",
      "              accuracy                           0.53       100\n",
      "             macro avg       0.58      0.53      0.53       100\n",
      "          weighted avg       0.58      0.53      0.53       100\n",
      "\n"
     ]
    }
   ],
   "source": [
    "print(classification_report(y_true, y_pred))"
   ]
  },
  {
   "cell_type": "code",
   "execution_count": 15,
   "id": "9335bfdb",
   "metadata": {},
   "outputs": [
    {
     "data": {
      "image/png": "[encoded data removed]",
      "text/plain": [
       "<Figure size 1200x600 with 1 Axes>"
      ]
     },
     "metadata": {},
     "output_type": "display_data"
    }
   ],
   "source": [
    "cm = confusion_matrix(y_true, y_pred)\n",
    "\n",
    "plt.figure(figsize=(12,6))\n",
    "sns.heatmap(cm, annot=True, fmt='d', cmap='Blues', cbar=False,\n",
    "            xticklabels=labels, yticklabels=labels)\n",
    "plt.xlabel('Valores Preditos')\n",
    "plt.ylabel('Valores Reais')\n",
    "plt.title('Matriz de Confusão')\n",
    "plt.show()"
   ]
  },
  {
   "cell_type": "markdown",
   "id": "5152d01c",
   "metadata": {},
   "source": [
    "### Conclusão\n",
    "\n",
    "Com este teste de semelhança entre as frases de sintomas de pacientes com as palavras e expressões do mapa de conhecimento não foi possível ter uma pontuação equivalente ao modelo de diagnóstico, porém, este caso de uso da ferramenta spaCy para tentar diagnosticar as doenças baseado nas similaridades entre as frases e expressões ainda se mostra muito interessante para situações onde há um mapa de conhecimento que represente com mais exatidão as palavras/expressões chaves para cada doença."
   ]
  }
 ],
 "metadata": {
  "kernelspec": {
   "display_name": "Python 3",
   "language": "python",
   "name": "python3"
  },
  "language_info": {
   "codemirror_mode": {
    "name": "ipython",
    "version": 3
   },
   "file_extension": ".py",
   "mimetype": "text/x-python",
   "name": "python",
   "nbconvert_exporter": "python",
   "pygments_lexer": "ipython3",
   "version": "3.12.10"
  }
 },
 "nbformat": 4,
 "nbformat_minor": 5
}
