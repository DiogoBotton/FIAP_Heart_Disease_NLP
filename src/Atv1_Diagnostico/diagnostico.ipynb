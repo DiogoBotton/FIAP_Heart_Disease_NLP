{
 "cells": [
  {
   "cell_type": "markdown",
   "id": "8d352c17",
   "metadata": {},
   "source": [
    "## Diagnóstico médico baseado em relatos de pacientes\n",
    "\n",
    "O objetivo deste modelo de diagnóstico é classificar um relato textual de um paciente sobre seus sintomas entre 4 classes distintas no contexto de doenças cardíacas, sendo elas:\n",
    "\n",
    "- Infarto.\n",
    "- Insuficiência Cardíaca.\n",
    "- Angina.\n",
    "- Arritmia."
   ]
  },
  {
   "cell_type": "markdown",
   "id": "f783b322",
   "metadata": {},
   "source": [
    "### Instalação e importação das bibliotecas"
   ]
  },
  {
   "cell_type": "code",
   "execution_count": 1,
   "id": "fe9be501",
   "metadata": {},
   "outputs": [
    {
     "name": "stdout",
     "output_type": "stream",
     "text": [
      "Collecting pt-core-news-sm==3.8.0\n",
      "  Downloading https://github.com/explosion/spacy-models/releases/download/pt_core_news_sm-3.8.0/pt_core_news_sm-3.8.0-py3-none-any.whl (13.0 MB)\n",
      "\u001b[2K     \u001b[90m━━━━━━━━━━━━━━━━━━━━━━━━━━━━━━━━━━━━━━━━\u001b[0m \u001b[32m13.0/13.0 MB\u001b[0m \u001b[31m24.3 MB/s\u001b[0m eta \u001b[36m0:00:00\u001b[0ma \u001b[36m0:00:01\u001b[0m\n",
      "\u001b[?25h\n",
      "\u001b[1m[\u001b[0m\u001b[34;49mnotice\u001b[0m\u001b[1;39;49m]\u001b[0m\u001b[39;49m A new release of pip is available: \u001b[0m\u001b[31;49m25.0.1\u001b[0m\u001b[39;49m -> \u001b[0m\u001b[32;49m25.2\u001b[0m\n",
      "\u001b[1m[\u001b[0m\u001b[34;49mnotice\u001b[0m\u001b[1;39;49m]\u001b[0m\u001b[39;49m To update, run: \u001b[0m\u001b[32;49mpip install --upgrade pip\u001b[0m\n",
      "\u001b[38;5;2m✔ Download and installation successful\u001b[0m\n",
      "You can now load the package via spacy.load('pt_core_news_sm')\n"
     ]
    }
   ],
   "source": [
    "!python -m spacy download pt_core_news_sm"
   ]
  },
  {
   "cell_type": "code",
   "execution_count": 2,
   "id": "16bcf6d2",
   "metadata": {},
   "outputs": [],
   "source": [
    "import pandas as pd\n",
    "import numpy as np\n",
    "import spacy\n",
    "import seaborn as sns\n",
    "import matplotlib.pyplot as plt\n",
    "from unidecode import unidecode\n",
    "from sklearn.feature_extraction.text import TfidfVectorizer\n",
    "from sklearn.metrics import classification_report, confusion_matrix\n",
    "from sklearn.model_selection import train_test_split\n",
    "from sklearn.linear_model import LogisticRegression\n",
    "from sklearn.ensemble import RandomForestClassifier\n",
    "from joblib import dump\n",
    "\n",
    "SEED = 654\n",
    "\n",
    "pln = spacy.load('pt_core_news_sm')"
   ]
  },
  {
   "cell_type": "markdown",
   "id": "81efe572",
   "metadata": {},
   "source": [
    "### Carregamento do dataset"
   ]
  },
  {
   "cell_type": "code",
   "execution_count": 3,
   "id": "46c96478",
   "metadata": {},
   "outputs": [
    {
     "data": {
      "text/html": [
       "<div>\n",
       "<style scoped>\n",
       "    .dataframe tbody tr th:only-of-type {\n",
       "        vertical-align: middle;\n",
       "    }\n",
       "\n",
       "    .dataframe tbody tr th {\n",
       "        vertical-align: top;\n",
       "    }\n",
       "\n",
       "    .dataframe thead th {\n",
       "        text-align: right;\n",
       "    }\n",
       "</style>\n",
       "<table border=\"1\" class=\"dataframe\">\n",
       "  <thead>\n",
       "    <tr style=\"text-align: right;\">\n",
       "      <th></th>\n",
       "      <th>frase</th>\n",
       "      <th>diagnostico</th>\n",
       "      <th>risco</th>\n",
       "    </tr>\n",
       "  </thead>\n",
       "  <tbody>\n",
       "    <tr>\n",
       "      <th>0</th>\n",
       "      <td>Há três dias, estou sentindo dores fortes no p...</td>\n",
       "      <td>Infarto</td>\n",
       "      <td>Alto Risco</td>\n",
       "    </tr>\n",
       "    <tr>\n",
       "      <th>1</th>\n",
       "      <td>Há pelo menos uma semana, venho apresentando u...</td>\n",
       "      <td>Insuficiência Cardíaca</td>\n",
       "      <td>Baixo Risco</td>\n",
       "    </tr>\n",
       "    <tr>\n",
       "      <th>2</th>\n",
       "      <td>De repente, há dois dias, comecei a ter falta ...</td>\n",
       "      <td>Angina</td>\n",
       "      <td>Alto Risco</td>\n",
       "    </tr>\n",
       "    <tr>\n",
       "      <th>3</th>\n",
       "      <td>Há quatro dias, sinto palpitações cardíacas fo...</td>\n",
       "      <td>Arritmia</td>\n",
       "      <td>Alto Risco</td>\n",
       "    </tr>\n",
       "    <tr>\n",
       "      <th>4</th>\n",
       "      <td>Há uma semana, tenho uma sensação constante de...</td>\n",
       "      <td>Infarto</td>\n",
       "      <td>Alto Risco</td>\n",
       "    </tr>\n",
       "  </tbody>\n",
       "</table>\n",
       "</div>"
      ],
      "text/plain": [
       "                                               frase             diagnostico  \\\n",
       "0  Há três dias, estou sentindo dores fortes no p...                 Infarto   \n",
       "1  Há pelo menos uma semana, venho apresentando u...  Insuficiência Cardíaca   \n",
       "2  De repente, há dois dias, comecei a ter falta ...                  Angina   \n",
       "3  Há quatro dias, sinto palpitações cardíacas fo...                Arritmia   \n",
       "4  Há uma semana, tenho uma sensação constante de...                 Infarto   \n",
       "\n",
       "         risco  \n",
       "0   Alto Risco  \n",
       "1  Baixo Risco  \n",
       "2   Alto Risco  \n",
       "3   Alto Risco  \n",
       "4   Alto Risco  "
      ]
     },
     "execution_count": 3,
     "metadata": {},
     "output_type": "execute_result"
    }
   ],
   "source": [
    "df = pd.read_csv('../dataset/sintomas_doencas_cardiacas.csv', sep=';')\n",
    "df.head()"
   ]
  },
  {
   "cell_type": "code",
   "execution_count": 4,
   "id": "679c5067",
   "metadata": {},
   "outputs": [
    {
     "name": "stdout",
     "output_type": "stream",
     "text": [
      "<class 'pandas.core.frame.DataFrame'>\n",
      "RangeIndex: 10 entries, 0 to 9\n",
      "Data columns (total 3 columns):\n",
      " #   Column       Non-Null Count  Dtype \n",
      "---  ------       --------------  ----- \n",
      " 0   frase        10 non-null     object\n",
      " 1   diagnostico  10 non-null     object\n",
      " 2   risco        10 non-null     object\n",
      "dtypes: object(3)\n",
      "memory usage: 372.0+ bytes\n"
     ]
    }
   ],
   "source": [
    "df.info()"
   ]
  },
  {
   "cell_type": "code",
   "execution_count": 5,
   "id": "fbf4a06a",
   "metadata": {},
   "outputs": [
    {
     "data": {
      "text/plain": [
       "Text(0, 0.5, 'Contagem')"
      ]
     },
     "execution_count": 5,
     "metadata": {},
     "output_type": "execute_result"
    },
    {
     "data": {
      "image/png": "[encoded data removed]",
      "text/plain": [
       "<Figure size 640x480 with 1 Axes>"
      ]
     },
     "metadata": {},
     "output_type": "display_data"
    }
   ],
   "source": [
    "sns.countplot(df, x='diagnostico')\n",
    "plt.xlabel('Diagnóstico')\n",
    "plt.ylabel('Contagem')"
   ]
  },
  {
   "cell_type": "markdown",
   "id": "d62da07e",
   "metadata": {},
   "source": [
    "### Pré-processamento dos dados textuais"
   ]
  },
  {
   "cell_type": "code",
   "execution_count": 6,
   "id": "8e4f1b66",
   "metadata": {},
   "outputs": [],
   "source": [
    "def text_processing(txt: str):\n",
    "    \"\"\"_summary_\n",
    "\n",
    "    Args:\n",
    "        txt (str): Texto a ser processado\n",
    "        \n",
    "    - Normaliza para minúsculas.\n",
    "    - Remove stopwords, pontuações, acentuações e digítos numéricos.\n",
    "    - Padroniza as palavras com a Lematização.\n",
    "    \"\"\"\n",
    "    txt = txt.lower()\n",
    "    doc = pln(txt)\n",
    "    \n",
    "    words: list[str] = []\n",
    "    \n",
    "    for token in doc:\n",
    "        if not token.is_stop and not token.is_punct and token.is_alpha:\n",
    "            words.append(token.lemma_)\n",
    "    \n",
    "    words = ' '.join(unidecode(word) for word in words)\n",
    "    return words"
   ]
  },
  {
   "cell_type": "code",
   "execution_count": 7,
   "id": "f31da2c7",
   "metadata": {},
   "outputs": [
    {
     "data": {
      "text/html": [
       "<div>\n",
       "<style scoped>\n",
       "    .dataframe tbody tr th:only-of-type {\n",
       "        vertical-align: middle;\n",
       "    }\n",
       "\n",
       "    .dataframe tbody tr th {\n",
       "        vertical-align: top;\n",
       "    }\n",
       "\n",
       "    .dataframe thead th {\n",
       "        text-align: right;\n",
       "    }\n",
       "</style>\n",
       "<table border=\"1\" class=\"dataframe\">\n",
       "  <thead>\n",
       "    <tr style=\"text-align: right;\">\n",
       "      <th></th>\n",
       "      <th>frase</th>\n",
       "      <th>diagnostico</th>\n",
       "      <th>risco</th>\n",
       "      <th>frase_processada</th>\n",
       "    </tr>\n",
       "  </thead>\n",
       "  <tbody>\n",
       "    <tr>\n",
       "      <th>0</th>\n",
       "      <td>Há três dias, estou sentindo dores fortes no p...</td>\n",
       "      <td>Infarto</td>\n",
       "      <td>Alto Risco</td>\n",
       "      <td>haver dia sentir dor forte peito pior esforco ...</td>\n",
       "    </tr>\n",
       "    <tr>\n",
       "      <th>1</th>\n",
       "      <td>Há pelo menos uma semana, venho apresentando u...</td>\n",
       "      <td>Insuficiência Cardíaca</td>\n",
       "      <td>Baixo Risco</td>\n",
       "      <td>haver semana venho apresentar cansaco extremo ...</td>\n",
       "    </tr>\n",
       "    <tr>\n",
       "      <th>2</th>\n",
       "      <td>De repente, há dois dias, comecei a ter falta ...</td>\n",
       "      <td>Angina</td>\n",
       "      <td>Alto Risco</td>\n",
       "      <td>repente haver dia comecar ar subito dificuldad...</td>\n",
       "    </tr>\n",
       "    <tr>\n",
       "      <th>3</th>\n",
       "      <td>Há quatro dias, sinto palpitações cardíacas fo...</td>\n",
       "      <td>Arritmia</td>\n",
       "      <td>Alto Risco</td>\n",
       "      <td>haver dia sinto palpitacao cardiaca forte cora...</td>\n",
       "    </tr>\n",
       "    <tr>\n",
       "      <th>4</th>\n",
       "      <td>Há uma semana, tenho uma sensação constante de...</td>\n",
       "      <td>Infarto</td>\n",
       "      <td>Alto Risco</td>\n",
       "      <td>haver semana sensacao constante aperto torax p...</td>\n",
       "    </tr>\n",
       "  </tbody>\n",
       "</table>\n",
       "</div>"
      ],
      "text/plain": [
       "                                               frase             diagnostico  \\\n",
       "0  Há três dias, estou sentindo dores fortes no p...                 Infarto   \n",
       "1  Há pelo menos uma semana, venho apresentando u...  Insuficiência Cardíaca   \n",
       "2  De repente, há dois dias, comecei a ter falta ...                  Angina   \n",
       "3  Há quatro dias, sinto palpitações cardíacas fo...                Arritmia   \n",
       "4  Há uma semana, tenho uma sensação constante de...                 Infarto   \n",
       "\n",
       "         risco                                   frase_processada  \n",
       "0   Alto Risco  haver dia sentir dor forte peito pior esforco ...  \n",
       "1  Baixo Risco  haver semana venho apresentar cansaco extremo ...  \n",
       "2   Alto Risco  repente haver dia comecar ar subito dificuldad...  \n",
       "3   Alto Risco  haver dia sinto palpitacao cardiaca forte cora...  \n",
       "4   Alto Risco  haver semana sensacao constante aperto torax p...  "
      ]
     },
     "execution_count": 7,
     "metadata": {},
     "output_type": "execute_result"
    }
   ],
   "source": [
    "df['frase_processada'] = df['frase'].apply(text_processing)\n",
    "df.head()"
   ]
  },
  {
   "cell_type": "markdown",
   "id": "57818e97",
   "metadata": {},
   "source": [
    "**Tokenização das frases com TF-IDF e Ngrams**"
   ]
  },
  {
   "cell_type": "code",
   "execution_count": 8,
   "id": "e2a6562d",
   "metadata": {},
   "outputs": [
    {
     "data": {
      "text/plain": [
       "(10, 100)"
      ]
     },
     "execution_count": 8,
     "metadata": {},
     "output_type": "execute_result"
    }
   ],
   "source": [
    "tf_idf = TfidfVectorizer(lowercase=False, max_features=100, ngram_range=(1,2)) # lowercase=False pois o texto já é convertido para letras minúsculas\n",
    "bow = tf_idf.fit_transform(df['frase_processada']) # Bag of Words\n",
    "\n",
    "bow.shape"
   ]
  },
  {
   "cell_type": "markdown",
   "id": "34325a55",
   "metadata": {},
   "source": [
    "Realizado estratificação dos dados (equilibrar os rótulos entre treino e teste) para melhorar o desempenho do modelo. Porém, pelo fato da pouca quantidade de dados e também pelo número de classes (4) foi necessário aumentar o tamanho do dataset de teste para 40% do total."
   ]
  },
  {
   "cell_type": "code",
   "execution_count": null,
   "id": "923f23f7",
   "metadata": {},
   "outputs": [],
   "source": [
    "X_train, X_test, y_train, y_test = train_test_split(bow, df['diagnostico'], stratify=df['diagnostico'], test_size=0.4, random_state=SEED)"
   ]
  },
  {
   "cell_type": "markdown",
   "id": "efc0d89a",
   "metadata": {},
   "source": [
    "### Treinamento de alguns modelos de classificação"
   ]
  },
  {
   "cell_type": "code",
   "execution_count": 10,
   "id": "24ebd594",
   "metadata": {},
   "outputs": [],
   "source": [
    "labels = np.unique(df['diagnostico'])"
   ]
  },
  {
   "cell_type": "markdown",
   "id": "c4de1152",
   "metadata": {},
   "source": [
    "**Regressão Logística**"
   ]
  },
  {
   "cell_type": "code",
   "execution_count": 11,
   "id": "48537d5f",
   "metadata": {},
   "outputs": [
    {
     "name": "stdout",
     "output_type": "stream",
     "text": [
      "Acurácia do modelo: 50.00%\n"
     ]
    }
   ],
   "source": [
    "lr_model = LogisticRegression()\n",
    "lr_model.fit(X_train, y_train)\n",
    "\n",
    "lr_model_acc = lr_model.score(X_test, y_test)\n",
    "print(f'Acurácia do modelo: {lr_model_acc*100:.2f}%')"
   ]
  },
  {
   "cell_type": "code",
   "execution_count": 12,
   "id": "c1c67b18",
   "metadata": {},
   "outputs": [
    {
     "data": {
      "image/png": "[encoded data removed]",
      "text/plain": [
       "<Figure size 1200x600 with 1 Axes>"
      ]
     },
     "metadata": {},
     "output_type": "display_data"
    }
   ],
   "source": [
    "predicts_lr = lr_model.predict(X_test)\n",
    "\n",
    "cm_lr = confusion_matrix(y_test, predicts_lr)\n",
    "\n",
    "plt.figure(figsize=(12,6))\n",
    "sns.heatmap(cm_lr, annot=True, fmt='d', cmap='Blues', cbar=False,\n",
    "            xticklabels=labels, yticklabels=labels)\n",
    "plt.xlabel('Valores Preditos')\n",
    "plt.ylabel('Valores Reais')\n",
    "plt.title('Matriz de Confusão')\n",
    "plt.show()"
   ]
  },
  {
   "cell_type": "code",
   "execution_count": 13,
   "id": "22b1a891",
   "metadata": {},
   "outputs": [
    {
     "name": "stdout",
     "output_type": "stream",
     "text": [
      "                        precision    recall  f1-score   support\n",
      "\n",
      "                Angina       0.00      0.00      0.00         1\n",
      "              Arritmia       1.00      1.00      1.00         1\n",
      "               Infarto       0.33      1.00      0.50         1\n",
      "Insuficiência Cardíaca       0.00      0.00      0.00         1\n",
      "\n",
      "              accuracy                           0.50         4\n",
      "             macro avg       0.33      0.50      0.38         4\n",
      "          weighted avg       0.33      0.50      0.38         4\n",
      "\n"
     ]
    }
   ],
   "source": [
    "print(classification_report(y_test, predicts_lr, zero_division=False))"
   ]
  },
  {
   "cell_type": "markdown",
   "id": "2f59baea",
   "metadata": {},
   "source": [
    "**Floresta Aleatória**"
   ]
  },
  {
   "cell_type": "code",
   "execution_count": 14,
   "id": "3b61c3ae",
   "metadata": {},
   "outputs": [
    {
     "name": "stdout",
     "output_type": "stream",
     "text": [
      "Acurácia do modelo: 25.00%\n"
     ]
    }
   ],
   "source": [
    "rf_model = RandomForestClassifier()\n",
    "rf_model.fit(X_train, y_train)\n",
    "\n",
    "rf_model_acc = rf_model.score(X_test, y_test)\n",
    "print(f'Acurácia do modelo: {rf_model_acc*100:.2f}%')"
   ]
  },
  {
   "cell_type": "code",
   "execution_count": 15,
   "id": "52f4bd69",
   "metadata": {},
   "outputs": [
    {
     "data": {
      "image/png": "[encoded data removed]",
      "text/plain": [
       "<Figure size 1200x600 with 1 Axes>"
      ]
     },
     "metadata": {},
     "output_type": "display_data"
    }
   ],
   "source": [
    "predicts_rf = rf_model.predict(X_test)\n",
    "\n",
    "cm_rf = confusion_matrix(y_test, predicts_rf)\n",
    "\n",
    "plt.figure(figsize=(12,6))\n",
    "sns.heatmap(cm_rf, annot=True, fmt='d', cmap='Blues', cbar=False,\n",
    "            xticklabels=labels, yticklabels=labels)\n",
    "plt.xlabel('Valores Preditos')\n",
    "plt.ylabel('Valores Reais')\n",
    "plt.title('Matriz de Confusão')\n",
    "plt.show()"
   ]
  },
  {
   "cell_type": "code",
   "execution_count": 16,
   "id": "e12080e8",
   "metadata": {},
   "outputs": [
    {
     "name": "stdout",
     "output_type": "stream",
     "text": [
      "                        precision    recall  f1-score   support\n",
      "\n",
      "                Angina       0.00      0.00      0.00         1\n",
      "              Arritmia       1.00      1.00      1.00         1\n",
      "               Infarto       0.33      1.00      0.50         1\n",
      "Insuficiência Cardíaca       0.00      0.00      0.00         1\n",
      "\n",
      "              accuracy                           0.50         4\n",
      "             macro avg       0.33      0.50      0.38         4\n",
      "          weighted avg       0.33      0.50      0.38         4\n",
      "\n"
     ]
    }
   ],
   "source": [
    "print(classification_report(y_test, predicts_lr, zero_division=False))"
   ]
  },
  {
   "cell_type": "code",
   "execution_count": 17,
   "id": "4acdf7b4",
   "metadata": {},
   "outputs": [
    {
     "data": {
      "text/plain": [
       "['tfidf_vectorizer_diagnostico.joblib']"
      ]
     },
     "execution_count": 17,
     "metadata": {},
     "output_type": "execute_result"
    }
   ],
   "source": [
    "dump(lr_model, 'modelo_diagnostico.joblib')\n",
    "dump(tf_idf, 'tfidf_vectorizer_diagnostico.joblib')"
   ]
  },
  {
   "cell_type": "markdown",
   "id": "99bde171",
   "metadata": {},
   "source": [
    "## Conclusão\n",
    "\n",
    "Pelo fato de não termos uma base de dados tão grande e diversificada não foi possivel adquirir uma boa pontuação de acurácia, precisão, recall ou f1 score. Porém, o fluxo do algoritmo pode ser reutilizado para diversos contextos além de problemas médicos, pois o processo que fizemos de pré-processamento e tokenização com a estratégia da lematização é genérico, assim como, o processo de treinamento e teste do modelo também poderiam ser reutilizados para outros problemas. Portando, por mais que o resultado deste modelo não seja tão satisfatório para uso em produção, o problema não está relacionado com o fluxo do algoritmo, mas sim com a ausência de uma massa de dados significativa para criar um modelo robusto."
   ]
  }
 ],
 "metadata": {
  "kernelspec": {
   "display_name": "spero-env",
   "language": "python",
   "name": "python3"
  },
  "language_info": {
   "codemirror_mode": {
    "name": "ipython",
    "version": 3
   },
   "file_extension": ".py",
   "mimetype": "text/x-python",
   "name": "python",
   "nbconvert_exporter": "python",
   "pygments_lexer": "ipython3",
   "version": "3.11.11"
  }
 },
 "nbformat": 4,
 "nbformat_minor": 5
}
