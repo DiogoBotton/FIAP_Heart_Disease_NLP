{
 "cells": [
  {
   "cell_type": "markdown",
   "id": "8d352c17",
   "metadata": {},
   "source": [
    "## Diagnóstico médico baseado em relatos de pacientes\n",
    "\n",
    "O objetivo deste modelo de diagnóstico é classificar relatos textuais de pacientes sobre seus sintomas entre 4 classes distintas no contexto de doenças cardíacas, sendo elas:\n",
    "\n",
    "- Infarto.\n",
    "- Insuficiência Cardíaca.\n",
    "- Angina.\n",
    "- Arritmia."
   ]
  },
  {
   "cell_type": "markdown",
   "id": "f783b322",
   "metadata": {},
   "source": [
    "### Instalação e importação das bibliotecas"
   ]
  },
  {
   "cell_type": "code",
   "execution_count": 24,
   "id": "fe9be501",
   "metadata": {},
   "outputs": [
    {
     "name": "stdout",
     "output_type": "stream",
     "text": [
      "Collecting pt-core-news-sm==3.8.0\n",
      "  Downloading https://github.com/explosion/spacy-models/releases/download/pt_core_news_sm-3.8.0/pt_core_news_sm-3.8.0-py3-none-any.whl (13.0 MB)\n",
      "     ---------------------------------------- 0.0/13.0 MB ? eta -:--:--\n",
      "     ----------------------------- ---------- 9.7/13.0 MB 50.2 MB/s eta 0:00:01\n",
      "     --------------------------------------- 13.0/13.0 MB 42.8 MB/s eta 0:00:00\n",
      "\u001b[38;5;2m✔ Download and installation successful\u001b[0m\n",
      "You can now load the package via spacy.load('pt_core_news_sm')\n"
     ]
    },
    {
     "name": "stderr",
     "output_type": "stream",
     "text": [
      "\n",
      "[notice] A new release of pip is available: 25.0.1 -> 25.2\n",
      "[notice] To update, run: python.exe -m pip install --upgrade pip\n"
     ]
    }
   ],
   "source": [
    "!python -m spacy download pt_core_news_sm"
   ]
  },
  {
   "cell_type": "code",
   "execution_count": null,
   "id": "16bcf6d2",
   "metadata": {},
   "outputs": [],
   "source": [
    "import pandas as pd\n",
    "import numpy as np\n",
    "import spacy\n",
    "import seaborn as sns\n",
    "import matplotlib.pyplot as plt\n",
    "from unidecode import unidecode\n",
    "from sklearn.feature_extraction.text import TfidfVectorizer\n",
    "from sklearn.metrics import classification_report, confusion_matrix\n",
    "from sklearn.model_selection import train_test_split\n",
    "from sklearn.linear_model import LogisticRegression\n",
    "from sklearn.ensemble import RandomForestClassifier\n",
    "from sklearn.pipeline import Pipeline\n",
    "from joblib import dump\n",
    "\n",
    "SEED = 654\n",
    "\n",
    "pln = spacy.load('pt_core_news_sm')"
   ]
  },
  {
   "cell_type": "markdown",
   "id": "81efe572",
   "metadata": {},
   "source": [
    "### Carregamento do dataset"
   ]
  },
  {
   "cell_type": "code",
   "execution_count": 26,
   "id": "46c96478",
   "metadata": {},
   "outputs": [
    {
     "data": {
      "text/html": [
       "<div>\n",
       "<style scoped>\n",
       "    .dataframe tbody tr th:only-of-type {\n",
       "        vertical-align: middle;\n",
       "    }\n",
       "\n",
       "    .dataframe tbody tr th {\n",
       "        vertical-align: top;\n",
       "    }\n",
       "\n",
       "    .dataframe thead th {\n",
       "        text-align: right;\n",
       "    }\n",
       "</style>\n",
       "<table border=\"1\" class=\"dataframe\">\n",
       "  <thead>\n",
       "    <tr style=\"text-align: right;\">\n",
       "      <th></th>\n",
       "      <th>frase</th>\n",
       "      <th>diagnostico</th>\n",
       "      <th>risco</th>\n",
       "    </tr>\n",
       "  </thead>\n",
       "  <tbody>\n",
       "    <tr>\n",
       "      <th>0</th>\n",
       "      <td>Sinto uma dor aguda no peito que surge ao subi...</td>\n",
       "      <td>Angina</td>\n",
       "      <td>Baixo Risco</td>\n",
       "    </tr>\n",
       "    <tr>\n",
       "      <th>1</th>\n",
       "      <td>Há dois dias, dor forte no peito irradia para ...</td>\n",
       "      <td>Infarto</td>\n",
       "      <td>Alto Risco</td>\n",
       "    </tr>\n",
       "    <tr>\n",
       "      <th>2</th>\n",
       "      <td>Estou exausto o dia todo, mesmo sem esforço, e...</td>\n",
       "      <td>Insuficiência Cardíaca</td>\n",
       "      <td>Baixo Risco</td>\n",
       "    </tr>\n",
       "    <tr>\n",
       "      <th>3</th>\n",
       "      <td>Meu coração acelera de repente durante reuniõe...</td>\n",
       "      <td>Arritmia</td>\n",
       "      <td>Alto Risco</td>\n",
       "    </tr>\n",
       "    <tr>\n",
       "      <th>4</th>\n",
       "      <td>Pressão no peito ao estressar no trabalho, ali...</td>\n",
       "      <td>Angina</td>\n",
       "      <td>Baixo Risco</td>\n",
       "    </tr>\n",
       "  </tbody>\n",
       "</table>\n",
       "</div>"
      ],
      "text/plain": [
       "                                               frase             diagnostico  \\\n",
       "0  Sinto uma dor aguda no peito que surge ao subi...                  Angina   \n",
       "1  Há dois dias, dor forte no peito irradia para ...                 Infarto   \n",
       "2  Estou exausto o dia todo, mesmo sem esforço, e...  Insuficiência Cardíaca   \n",
       "3  Meu coração acelera de repente durante reuniõe...                Arritmia   \n",
       "4  Pressão no peito ao estressar no trabalho, ali...                  Angina   \n",
       "\n",
       "         risco  \n",
       "0  Baixo Risco  \n",
       "1   Alto Risco  \n",
       "2  Baixo Risco  \n",
       "3   Alto Risco  \n",
       "4  Baixo Risco  "
      ]
     },
     "execution_count": 26,
     "metadata": {},
     "output_type": "execute_result"
    }
   ],
   "source": [
    "df = pd.read_csv('../dataset/sintomas_doencas_cardiacas.csv')\n",
    "df.head()"
   ]
  },
  {
   "cell_type": "code",
   "execution_count": 27,
   "id": "679c5067",
   "metadata": {},
   "outputs": [
    {
     "name": "stdout",
     "output_type": "stream",
     "text": [
      "<class 'pandas.core.frame.DataFrame'>\n",
      "RangeIndex: 100 entries, 0 to 99\n",
      "Data columns (total 3 columns):\n",
      " #   Column       Non-Null Count  Dtype \n",
      "---  ------       --------------  ----- \n",
      " 0   frase        100 non-null    object\n",
      " 1   diagnostico  100 non-null    object\n",
      " 2   risco        100 non-null    object\n",
      "dtypes: object(3)\n",
      "memory usage: 2.5+ KB\n"
     ]
    }
   ],
   "source": [
    "df.info()"
   ]
  },
  {
   "cell_type": "code",
   "execution_count": 28,
   "id": "fbf4a06a",
   "metadata": {},
   "outputs": [
    {
     "data": {
      "text/plain": [
       "Text(0, 0.5, 'Contagem')"
      ]
     },
     "execution_count": 28,
     "metadata": {},
     "output_type": "execute_result"
    },
    {
     "data": {
      "image/png": "[encoded data removed]",
      "text/plain": [
       "<Figure size 640x480 with 1 Axes>"
      ]
     },
     "metadata": {},
     "output_type": "display_data"
    }
   ],
   "source": [
    "sns.countplot(df, x='diagnostico')\n",
    "plt.xlabel('Diagnóstico')\n",
    "plt.ylabel('Contagem')"
   ]
  },
  {
   "cell_type": "markdown",
   "id": "d62da07e",
   "metadata": {},
   "source": [
    "### Pré-processamento dos dados textuais"
   ]
  },
  {
   "cell_type": "code",
   "execution_count": 29,
   "id": "8e4f1b66",
   "metadata": {},
   "outputs": [],
   "source": [
    "def text_processing(txt: str):\n",
    "    \"\"\"_summary_\n",
    "\n",
    "    Args:\n",
    "        txt (str): Texto a ser processado\n",
    "        \n",
    "    - Normaliza para minúsculas.\n",
    "    - Remove stopwords, pontuações, acentuações e digítos numéricos.\n",
    "    - Padroniza as palavras com a Lematização.\n",
    "    \"\"\"\n",
    "    txt = txt.lower()\n",
    "    doc = pln(txt)\n",
    "    \n",
    "    words: list[str] = []\n",
    "    \n",
    "    for token in doc:\n",
    "        if not token.is_stop and not token.is_punct and token.is_alpha:\n",
    "            words.append(token.lemma_)\n",
    "    \n",
    "    words = ' '.join(unidecode(word) for word in words)\n",
    "    return words"
   ]
  },
  {
   "cell_type": "code",
   "execution_count": 30,
   "id": "f31da2c7",
   "metadata": {},
   "outputs": [
    {
     "data": {
      "text/html": [
       "<div>\n",
       "<style scoped>\n",
       "    .dataframe tbody tr th:only-of-type {\n",
       "        vertical-align: middle;\n",
       "    }\n",
       "\n",
       "    .dataframe tbody tr th {\n",
       "        vertical-align: top;\n",
       "    }\n",
       "\n",
       "    .dataframe thead th {\n",
       "        text-align: right;\n",
       "    }\n",
       "</style>\n",
       "<table border=\"1\" class=\"dataframe\">\n",
       "  <thead>\n",
       "    <tr style=\"text-align: right;\">\n",
       "      <th></th>\n",
       "      <th>frase</th>\n",
       "      <th>diagnostico</th>\n",
       "      <th>risco</th>\n",
       "      <th>frase_processada</th>\n",
       "    </tr>\n",
       "  </thead>\n",
       "  <tbody>\n",
       "    <tr>\n",
       "      <th>0</th>\n",
       "      <td>Sinto uma dor aguda no peito que surge ao subi...</td>\n",
       "      <td>Angina</td>\n",
       "      <td>Baixo Risco</td>\n",
       "      <td>sinto dor aguda peito surgir subir escar durar...</td>\n",
       "    </tr>\n",
       "    <tr>\n",
       "      <th>1</th>\n",
       "      <td>Há dois dias, dor forte no peito irradia para ...</td>\n",
       "      <td>Infarto</td>\n",
       "      <td>Alto Risco</td>\n",
       "      <td>haver dia dor forte peito irradir braco esquer...</td>\n",
       "    </tr>\n",
       "    <tr>\n",
       "      <th>2</th>\n",
       "      <td>Estou exausto o dia todo, mesmo sem esforço, e...</td>\n",
       "      <td>Insuficiência Cardíaca</td>\n",
       "      <td>Baixo Risco</td>\n",
       "      <td>exausto dia esforco incho pe noite</td>\n",
       "    </tr>\n",
       "    <tr>\n",
       "      <th>3</th>\n",
       "      <td>Meu coração acelera de repente durante reuniõe...</td>\n",
       "      <td>Arritmia</td>\n",
       "      <td>Alto Risco</td>\n",
       "      <td>coracao acelerar repente durante reuniao sensa...</td>\n",
       "    </tr>\n",
       "    <tr>\n",
       "      <th>4</th>\n",
       "      <td>Pressão no peito ao estressar no trabalho, ali...</td>\n",
       "      <td>Angina</td>\n",
       "      <td>Baixo Risco</td>\n",
       "      <td>pressao peito estressar trabalho aliviar sentar</td>\n",
       "    </tr>\n",
       "  </tbody>\n",
       "</table>\n",
       "</div>"
      ],
      "text/plain": [
       "                                               frase             diagnostico  \\\n",
       "0  Sinto uma dor aguda no peito que surge ao subi...                  Angina   \n",
       "1  Há dois dias, dor forte no peito irradia para ...                 Infarto   \n",
       "2  Estou exausto o dia todo, mesmo sem esforço, e...  Insuficiência Cardíaca   \n",
       "3  Meu coração acelera de repente durante reuniõe...                Arritmia   \n",
       "4  Pressão no peito ao estressar no trabalho, ali...                  Angina   \n",
       "\n",
       "         risco                                   frase_processada  \n",
       "0  Baixo Risco  sinto dor aguda peito surgir subir escar durar...  \n",
       "1   Alto Risco  haver dia dor forte peito irradir braco esquer...  \n",
       "2  Baixo Risco                 exausto dia esforco incho pe noite  \n",
       "3   Alto Risco  coracao acelerar repente durante reuniao sensa...  \n",
       "4  Baixo Risco    pressao peito estressar trabalho aliviar sentar  "
      ]
     },
     "execution_count": 30,
     "metadata": {},
     "output_type": "execute_result"
    }
   ],
   "source": [
    "df['frase_processada'] = df['frase'].apply(text_processing)\n",
    "df.head()"
   ]
  },
  {
   "cell_type": "markdown",
   "id": "34325a55",
   "metadata": {},
   "source": [
    "Realizado estratificação dos dados (equilibrar os rótulos entre treino e teste) para melhorar o desempenho do modelo. Porém, pelo fato da pouca quantidade de dados e também pelo número de classes (4) foi necessário aumentar o tamanho do dataset de teste para 40% do total."
   ]
  },
  {
   "cell_type": "code",
   "execution_count": 31,
   "id": "923f23f7",
   "metadata": {},
   "outputs": [],
   "source": [
    "X_train, X_test, y_train, y_test = train_test_split(df['frase_processada'], df['diagnostico'], stratify=df['diagnostico'], random_state=SEED)"
   ]
  },
  {
   "cell_type": "markdown",
   "id": "efc0d89a",
   "metadata": {},
   "source": [
    "### Treinamento de alguns modelos de classificação\n",
    "\n",
    "**Pipeline com Tokenização das frases com TF-IDF e Ngrams**\n",
    "\n",
    "A pipeline transforma os dados textuais em um vetor chamada de *Bolsa de Palavras (Bag of Words - Bow)*, define as propriedades *lowercase* como false pois já é realizado a normalização dos textos em minúsculas e a propriedade *ngram_range* gerá palavras individuais e bigramas."
   ]
  },
  {
   "cell_type": "code",
   "execution_count": 32,
   "id": "24ebd594",
   "metadata": {},
   "outputs": [],
   "source": [
    "labels = np.unique(df['diagnostico'])"
   ]
  },
  {
   "cell_type": "markdown",
   "id": "c4de1152",
   "metadata": {},
   "source": [
    "**Regressão Logística**"
   ]
  },
  {
   "cell_type": "code",
   "execution_count": 33,
   "id": "48537d5f",
   "metadata": {},
   "outputs": [
    {
     "name": "stdout",
     "output_type": "stream",
     "text": [
      "Acurácia do modelo: 96.00%\n"
     ]
    }
   ],
   "source": [
    "lr_pipeline = Pipeline([\n",
    "    ('vectorizer', TfidfVectorizer(lowercase=False, max_features=1000, ngram_range=(1,2))),\n",
    "    ('estimator', LogisticRegression())\n",
    "])\n",
    "\n",
    "lr_pipeline.fit(X_train, y_train)\n",
    "\n",
    "lr_model_acc = lr_pipeline.score(X_test, y_test)\n",
    "print(f'Acurácia do modelo: {lr_model_acc*100:.2f}%')"
   ]
  },
  {
   "cell_type": "code",
   "execution_count": 34,
   "id": "c1c67b18",
   "metadata": {},
   "outputs": [
    {
     "data": {
      "image/png": "[encoded data removed]",
      "text/plain": [
       "<Figure size 1200x600 with 1 Axes>"
      ]
     },
     "metadata": {},
     "output_type": "display_data"
    }
   ],
   "source": [
    "predicts_lr = lr_pipeline.predict(X_test)\n",
    "\n",
    "cm_lr = confusion_matrix(y_test, predicts_lr)\n",
    "\n",
    "plt.figure(figsize=(12,6))\n",
    "sns.heatmap(cm_lr, annot=True, fmt='d', cmap='Blues', cbar=False,\n",
    "            xticklabels=labels, yticklabels=labels)\n",
    "plt.xlabel('Valores Preditos')\n",
    "plt.ylabel('Valores Reais')\n",
    "plt.title('Matriz de Confusão')\n",
    "plt.show()"
   ]
  },
  {
   "cell_type": "code",
   "execution_count": 35,
   "id": "22b1a891",
   "metadata": {},
   "outputs": [
    {
     "name": "stdout",
     "output_type": "stream",
     "text": [
      "                        precision    recall  f1-score   support\n",
      "\n",
      "                Angina       1.00      0.86      0.92         7\n",
      "              Arritmia       1.00      1.00      1.00         6\n",
      "               Infarto       0.86      1.00      0.92         6\n",
      "Insuficiência Cardíaca       1.00      1.00      1.00         6\n",
      "\n",
      "              accuracy                           0.96        25\n",
      "             macro avg       0.96      0.96      0.96        25\n",
      "          weighted avg       0.97      0.96      0.96        25\n",
      "\n"
     ]
    }
   ],
   "source": [
    "print(classification_report(y_test, predicts_lr, zero_division=False))"
   ]
  },
  {
   "cell_type": "markdown",
   "id": "2f59baea",
   "metadata": {},
   "source": [
    "**Floresta Aleatória**"
   ]
  },
  {
   "cell_type": "code",
   "execution_count": 36,
   "id": "3b61c3ae",
   "metadata": {},
   "outputs": [
    {
     "name": "stdout",
     "output_type": "stream",
     "text": [
      "Acurácia do modelo: 84.00%\n"
     ]
    }
   ],
   "source": [
    "rf_pipeline = Pipeline([\n",
    "    ('vectorizer', TfidfVectorizer(lowercase=False, max_features=1000, ngram_range=(1,2))),\n",
    "    ('estimator', RandomForestClassifier(random_state=SEED))\n",
    "])\n",
    "\n",
    "rf_pipeline.fit(X_train, y_train)\n",
    "\n",
    "rf_model_acc = rf_pipeline.score(X_test, y_test)\n",
    "print(f'Acurácia do modelo: {rf_model_acc*100:.2f}%')"
   ]
  },
  {
   "cell_type": "code",
   "execution_count": 37,
   "id": "52f4bd69",
   "metadata": {},
   "outputs": [
    {
     "data": {
      "image/png": "[encoded data removed]",
      "text/plain": [
       "<Figure size 1200x600 with 1 Axes>"
      ]
     },
     "metadata": {},
     "output_type": "display_data"
    }
   ],
   "source": [
    "predicts_rf = rf_pipeline.predict(X_test)\n",
    "\n",
    "cm_rf = confusion_matrix(y_test, predicts_rf)\n",
    "\n",
    "plt.figure(figsize=(12,6))\n",
    "sns.heatmap(cm_rf, annot=True, fmt='d', cmap='Blues', cbar=False,\n",
    "            xticklabels=labels, yticklabels=labels)\n",
    "plt.xlabel('Valores Preditos')\n",
    "plt.ylabel('Valores Reais')\n",
    "plt.title('Matriz de Confusão')\n",
    "plt.show()"
   ]
  },
  {
   "cell_type": "code",
   "execution_count": 38,
   "id": "e12080e8",
   "metadata": {},
   "outputs": [
    {
     "name": "stdout",
     "output_type": "stream",
     "text": [
      "                        precision    recall  f1-score   support\n",
      "\n",
      "                Angina       1.00      0.86      0.92         7\n",
      "              Arritmia       1.00      1.00      1.00         6\n",
      "               Infarto       0.86      1.00      0.92         6\n",
      "Insuficiência Cardíaca       1.00      1.00      1.00         6\n",
      "\n",
      "              accuracy                           0.96        25\n",
      "             macro avg       0.96      0.96      0.96        25\n",
      "          weighted avg       0.97      0.96      0.96        25\n",
      "\n"
     ]
    }
   ],
   "source": [
    "print(classification_report(y_test, predicts_lr, zero_division=False))"
   ]
  },
  {
   "cell_type": "markdown",
   "id": "98cec5df",
   "metadata": {},
   "source": [
    "### Testes com frases"
   ]
  },
  {
   "cell_type": "code",
   "execution_count": 42,
   "id": "87ae3366",
   "metadata": {},
   "outputs": [],
   "source": [
    "texts = [\n",
    "    'estou sentindo uma dor forte no peito',\n",
    "    'sinto um cansaço extremo mesmo descansado',\n",
    "    'as vezes sinto meu coração falhar',\n",
    "    'sinto um estranho aperto no peito com pouco esforço'\n",
    "]"
   ]
  },
  {
   "cell_type": "code",
   "execution_count": 43,
   "id": "042965f5",
   "metadata": {},
   "outputs": [
    {
     "data": {
      "text/plain": [
       "array(['Infarto', 'Insuficiência Cardíaca', 'Arritmia', 'Angina'],\n",
       "      dtype=object)"
      ]
     },
     "execution_count": 43,
     "metadata": {},
     "output_type": "execute_result"
    }
   ],
   "source": [
    "predicts = lr_pipeline.predict(texts)\n",
    "predicts"
   ]
  },
  {
   "cell_type": "markdown",
   "id": "7f693fdb",
   "metadata": {},
   "source": [
    "**Exportação do melhor modelo (Regressão Logística)**"
   ]
  },
  {
   "cell_type": "code",
   "execution_count": 41,
   "id": "4acdf7b4",
   "metadata": {},
   "outputs": [
    {
     "data": {
      "text/plain": [
       "['modelo_diagnostico_lr_pipeline.joblib']"
      ]
     },
     "execution_count": 41,
     "metadata": {},
     "output_type": "execute_result"
    }
   ],
   "source": [
    "dump(lr_pipeline, 'modelo_diagnostico_lr_pipeline.joblib')"
   ]
  },
  {
   "cell_type": "markdown",
   "id": "99bde171",
   "metadata": {},
   "source": [
    "## Conclusão\n",
    "\n",
    "Pelo fato de termos gerado as frases de sintomas de pacientes de forma sintética é possível que a pontuação adquirida não reflita a realidade, seja por algum tipo enviesamento, seja pela ausência de uma revisão geral em todas as frases geradas, por isso, não é uma base de dados recomendada para utilizar em ambientes de produção. Porém, o fluxo do algoritmo pode ser reutilizado para diversos contextos além de problemas médicos, pois o processo que fizemos de pré-processamento e tokenização com a estratégia da lematização é genérico, assim como, o processo de treinamento e teste do modelo também poderiam ser reutilizados para outros problemas."
   ]
  }
 ],
 "metadata": {
  "kernelspec": {
   "display_name": "Python 3",
   "language": "python",
   "name": "python3"
  },
  "language_info": {
   "codemirror_mode": {
    "name": "ipython",
    "version": 3
   },
   "file_extension": ".py",
   "mimetype": "text/x-python",
   "name": "python",
   "nbconvert_exporter": "python",
   "pygments_lexer": "ipython3",
   "version": "3.12.10"
  }
 },
 "nbformat": 4,
 "nbformat_minor": 5
}
