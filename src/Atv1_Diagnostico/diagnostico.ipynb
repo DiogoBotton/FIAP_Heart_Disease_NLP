{
 "cells": [
  {
   "cell_type": "markdown",
   "id": "8d352c17",
   "metadata": {},
   "source": [
    "## Diagnóstico médico baseado em relatos de pacientes"
   ]
  },
  {
   "cell_type": "markdown",
   "id": "f783b322",
   "metadata": {},
   "source": [
    "### Instalação e importação das bibliotecas"
   ]
  },
  {
   "cell_type": "code",
   "execution_count": 24,
   "id": "fe9be501",
   "metadata": {},
   "outputs": [
    {
     "name": "stdout",
     "output_type": "stream",
     "text": [
      "Collecting pt-core-news-sm==3.8.0\n",
      "  Downloading https://github.com/explosion/spacy-models/releases/download/pt_core_news_sm-3.8.0/pt_core_news_sm-3.8.0-py3-none-any.whl (13.0 MB)\n",
      "     ---------------------------------------- 0.0/13.0 MB ? eta -:--:--\n",
      "     ----------------------- ---------------- 7.6/13.0 MB 42.7 MB/s eta 0:00:01\n",
      "     --------------------------------------- 13.0/13.0 MB 45.3 MB/s eta 0:00:00\n",
      "\u001b[38;5;2m✔ Download and installation successful\u001b[0m\n",
      "You can now load the package via spacy.load('pt_core_news_sm')\n"
     ]
    },
    {
     "name": "stderr",
     "output_type": "stream",
     "text": [
      "\n",
      "[notice] A new release of pip is available: 25.0.1 -> 25.2\n",
      "[notice] To update, run: python.exe -m pip install --upgrade pip\n"
     ]
    }
   ],
   "source": [
    "!python -m spacy download pt_core_news_sm"
   ]
  },
  {
   "cell_type": "code",
   "execution_count": 25,
   "id": "16bcf6d2",
   "metadata": {},
   "outputs": [],
   "source": [
    "import pandas as pd\n",
    "import spacy\n",
    "import seaborn as sns\n",
    "import matplotlib.pyplot as plt\n",
    "from unidecode import unidecode\n",
    "\n",
    "pln = spacy.load('pt_core_news_sm')"
   ]
  },
  {
   "cell_type": "markdown",
   "id": "81efe572",
   "metadata": {},
   "source": [
    "### Carregamento do dataset"
   ]
  },
  {
   "cell_type": "code",
   "execution_count": 26,
   "id": "46c96478",
   "metadata": {},
   "outputs": [
    {
     "data": {
      "text/html": [
       "<div>\n",
       "<style scoped>\n",
       "    .dataframe tbody tr th:only-of-type {\n",
       "        vertical-align: middle;\n",
       "    }\n",
       "\n",
       "    .dataframe tbody tr th {\n",
       "        vertical-align: top;\n",
       "    }\n",
       "\n",
       "    .dataframe thead th {\n",
       "        text-align: right;\n",
       "    }\n",
       "</style>\n",
       "<table border=\"1\" class=\"dataframe\">\n",
       "  <thead>\n",
       "    <tr style=\"text-align: right;\">\n",
       "      <th></th>\n",
       "      <th>frase</th>\n",
       "      <th>diagnostico</th>\n",
       "      <th>risco</th>\n",
       "    </tr>\n",
       "  </thead>\n",
       "  <tbody>\n",
       "    <tr>\n",
       "      <th>0</th>\n",
       "      <td>Há três dias, estou sentindo dores fortes no p...</td>\n",
       "      <td>Infarto</td>\n",
       "      <td>Alto Risco</td>\n",
       "    </tr>\n",
       "    <tr>\n",
       "      <th>1</th>\n",
       "      <td>Há pelo menos uma semana, venho apresentando u...</td>\n",
       "      <td>Insuficiência Cardíaca</td>\n",
       "      <td>Baixo Risco</td>\n",
       "    </tr>\n",
       "    <tr>\n",
       "      <th>2</th>\n",
       "      <td>De repente, há dois dias, comecei a ter falta ...</td>\n",
       "      <td>Angina</td>\n",
       "      <td>Alto Risco</td>\n",
       "    </tr>\n",
       "    <tr>\n",
       "      <th>3</th>\n",
       "      <td>Há quatro dias, sinto palpitações cardíacas fo...</td>\n",
       "      <td>Arritmia</td>\n",
       "      <td>Alto Risco</td>\n",
       "    </tr>\n",
       "    <tr>\n",
       "      <th>4</th>\n",
       "      <td>Há uma semana, tenho uma sensação constante de...</td>\n",
       "      <td>Infarto</td>\n",
       "      <td>Alto Risco</td>\n",
       "    </tr>\n",
       "  </tbody>\n",
       "</table>\n",
       "</div>"
      ],
      "text/plain": [
       "                                               frase             diagnostico  \\\n",
       "0  Há três dias, estou sentindo dores fortes no p...                 Infarto   \n",
       "1  Há pelo menos uma semana, venho apresentando u...  Insuficiência Cardíaca   \n",
       "2  De repente, há dois dias, comecei a ter falta ...                  Angina   \n",
       "3  Há quatro dias, sinto palpitações cardíacas fo...                Arritmia   \n",
       "4  Há uma semana, tenho uma sensação constante de...                 Infarto   \n",
       "\n",
       "         risco  \n",
       "0   Alto Risco  \n",
       "1  Baixo Risco  \n",
       "2   Alto Risco  \n",
       "3   Alto Risco  \n",
       "4   Alto Risco  "
      ]
     },
     "execution_count": 26,
     "metadata": {},
     "output_type": "execute_result"
    }
   ],
   "source": [
    "df = pd.read_csv('../dataset/sintomas_doencas_cardiacas.csv', sep=';')\n",
    "df.head()"
   ]
  },
  {
   "cell_type": "code",
   "execution_count": 27,
   "id": "679c5067",
   "metadata": {},
   "outputs": [
    {
     "name": "stdout",
     "output_type": "stream",
     "text": [
      "<class 'pandas.core.frame.DataFrame'>\n",
      "RangeIndex: 10 entries, 0 to 9\n",
      "Data columns (total 3 columns):\n",
      " #   Column       Non-Null Count  Dtype \n",
      "---  ------       --------------  ----- \n",
      " 0   frase        10 non-null     object\n",
      " 1   diagnostico  10 non-null     object\n",
      " 2   risco        10 non-null     object\n",
      "dtypes: object(3)\n",
      "memory usage: 372.0+ bytes\n"
     ]
    }
   ],
   "source": [
    "df.info()"
   ]
  },
  {
   "cell_type": "code",
   "execution_count": 28,
   "id": "fbf4a06a",
   "metadata": {},
   "outputs": [
    {
     "data": {
      "text/plain": [
       "Text(0, 0.5, 'Contagem')"
      ]
     },
     "execution_count": 28,
     "metadata": {},
     "output_type": "execute_result"
    },
    {
     "data": {
      "image/png": "[encoded data removed]",
      "text/plain": [
       "<Figure size 640x480 with 1 Axes>"
      ]
     },
     "metadata": {},
     "output_type": "display_data"
    }
   ],
   "source": [
    "sns.countplot(df, x='diagnostico')\n",
    "plt.xlabel('Diagnóstico')\n",
    "plt.ylabel('Contagem')"
   ]
  },
  {
   "cell_type": "markdown",
   "id": "d62da07e",
   "metadata": {},
   "source": [
    "### Pré-processamento dos dados textuais"
   ]
  },
  {
   "cell_type": "code",
   "execution_count": 29,
   "id": "8e4f1b66",
   "metadata": {},
   "outputs": [],
   "source": [
    "def text_processing(txt: str):\n",
    "    \"\"\"_summary_\n",
    "\n",
    "    Args:\n",
    "        txt (str): Texto a ser processado\n",
    "        \n",
    "    - Normaliza para minúsculas.\n",
    "    - Remove stopwords, pontuações, acentuações e digítos numéricos.\n",
    "    - Padroniza as palavras com a Lematização.\n",
    "    \"\"\"\n",
    "    txt = txt.lower()\n",
    "    doc = pln(txt)\n",
    "    \n",
    "    words: list[str] = []\n",
    "    \n",
    "    for token in doc:\n",
    "        if not token.is_stop and not token.is_punct and token.is_alpha:\n",
    "            words.append(token.lemma_)\n",
    "    \n",
    "    words = ' '.join(unidecode(word) for word in words)\n",
    "    return words"
   ]
  },
  {
   "cell_type": "code",
   "execution_count": 30,
   "id": "f31da2c7",
   "metadata": {},
   "outputs": [
    {
     "data": {
      "text/html": [
       "<div>\n",
       "<style scoped>\n",
       "    .dataframe tbody tr th:only-of-type {\n",
       "        vertical-align: middle;\n",
       "    }\n",
       "\n",
       "    .dataframe tbody tr th {\n",
       "        vertical-align: top;\n",
       "    }\n",
       "\n",
       "    .dataframe thead th {\n",
       "        text-align: right;\n",
       "    }\n",
       "</style>\n",
       "<table border=\"1\" class=\"dataframe\">\n",
       "  <thead>\n",
       "    <tr style=\"text-align: right;\">\n",
       "      <th></th>\n",
       "      <th>frase</th>\n",
       "      <th>diagnostico</th>\n",
       "      <th>risco</th>\n",
       "      <th>frase_processada</th>\n",
       "    </tr>\n",
       "  </thead>\n",
       "  <tbody>\n",
       "    <tr>\n",
       "      <th>0</th>\n",
       "      <td>Há três dias, estou sentindo dores fortes no p...</td>\n",
       "      <td>Infarto</td>\n",
       "      <td>Alto Risco</td>\n",
       "      <td>haver dia sentir dor forte peito pior esforco ...</td>\n",
       "    </tr>\n",
       "    <tr>\n",
       "      <th>1</th>\n",
       "      <td>Há pelo menos uma semana, venho apresentando u...</td>\n",
       "      <td>Insuficiência Cardíaca</td>\n",
       "      <td>Baixo Risco</td>\n",
       "      <td>haver semana venho apresentar cansaco extremo ...</td>\n",
       "    </tr>\n",
       "    <tr>\n",
       "      <th>2</th>\n",
       "      <td>De repente, há dois dias, comecei a ter falta ...</td>\n",
       "      <td>Angina</td>\n",
       "      <td>Alto Risco</td>\n",
       "      <td>repente haver dia comecar ar subito dificuldad...</td>\n",
       "    </tr>\n",
       "    <tr>\n",
       "      <th>3</th>\n",
       "      <td>Há quatro dias, sinto palpitações cardíacas fo...</td>\n",
       "      <td>Arritmia</td>\n",
       "      <td>Alto Risco</td>\n",
       "      <td>haver dia sinto palpitacao cardiaca forte cora...</td>\n",
       "    </tr>\n",
       "    <tr>\n",
       "      <th>4</th>\n",
       "      <td>Há uma semana, tenho uma sensação constante de...</td>\n",
       "      <td>Infarto</td>\n",
       "      <td>Alto Risco</td>\n",
       "      <td>haver semana sensacao constante aperto torax p...</td>\n",
       "    </tr>\n",
       "  </tbody>\n",
       "</table>\n",
       "</div>"
      ],
      "text/plain": [
       "                                               frase             diagnostico  \\\n",
       "0  Há três dias, estou sentindo dores fortes no p...                 Infarto   \n",
       "1  Há pelo menos uma semana, venho apresentando u...  Insuficiência Cardíaca   \n",
       "2  De repente, há dois dias, comecei a ter falta ...                  Angina   \n",
       "3  Há quatro dias, sinto palpitações cardíacas fo...                Arritmia   \n",
       "4  Há uma semana, tenho uma sensação constante de...                 Infarto   \n",
       "\n",
       "         risco                                   frase_processada  \n",
       "0   Alto Risco  haver dia sentir dor forte peito pior esforco ...  \n",
       "1  Baixo Risco  haver semana venho apresentar cansaco extremo ...  \n",
       "2   Alto Risco  repente haver dia comecar ar subito dificuldad...  \n",
       "3   Alto Risco  haver dia sinto palpitacao cardiaca forte cora...  \n",
       "4   Alto Risco  haver semana sensacao constante aperto torax p...  "
      ]
     },
     "execution_count": 30,
     "metadata": {},
     "output_type": "execute_result"
    }
   ],
   "source": [
    "df['frase_processada'] = df['frase'].apply(text_processing)\n",
    "df.head()"
   ]
  }
 ],
 "metadata": {
  "kernelspec": {
   "display_name": "Python 3",
   "language": "python",
   "name": "python3"
  },
  "language_info": {
   "codemirror_mode": {
    "name": "ipython",
    "version": 3
   },
   "file_extension": ".py",
   "mimetype": "text/x-python",
   "name": "python",
   "nbconvert_exporter": "python",
   "pygments_lexer": "ipython3",
   "version": "3.12.10"
  }
 },
 "nbformat": 4,
 "nbformat_minor": 5
}
