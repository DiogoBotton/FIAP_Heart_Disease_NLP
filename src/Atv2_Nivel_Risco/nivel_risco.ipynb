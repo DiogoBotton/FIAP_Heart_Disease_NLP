{
 "cells": [
  {
   "cell_type": "markdown",
   "id": "8d352c17",
   "metadata": {},
   "source": [
    "## Classificador de nível de risco baseado em relatos de pacientes\n",
    "\n",
    "O objetivo deste modelo é classificar relatos textuais de pacientes em dois níveis de risco, sendo elas:\n",
    "\n",
    "- Baixo risco.\n",
    "- Alto risco."
   ]
  },
  {
   "cell_type": "markdown",
   "id": "f783b322",
   "metadata": {},
   "source": [
    "### Instalação e importação das bibliotecas"
   ]
  },
  {
   "cell_type": "code",
   "execution_count": 1,
   "id": "fe9be501",
   "metadata": {},
   "outputs": [
    {
     "name": "stdout",
     "output_type": "stream",
     "text": [
      "Collecting pt-core-news-sm==3.8.0\n",
      "  Downloading https://github.com/explosion/spacy-models/releases/download/pt_core_news_sm-3.8.0/pt_core_news_sm-3.8.0-py3-none-any.whl (13.0 MB)\n",
      "     ---------------------------------------- 0.0/13.0 MB ? eta -:--:--\n",
      "     ---------------------------- ----------- 9.2/13.0 MB 47.4 MB/s eta 0:00:01\n",
      "     --------------------------------------- 13.0/13.0 MB 45.1 MB/s eta 0:00:00\n",
      "\u001b[38;5;2m✔ Download and installation successful\u001b[0m\n",
      "You can now load the package via spacy.load('pt_core_news_sm')\n"
     ]
    },
    {
     "name": "stderr",
     "output_type": "stream",
     "text": [
      "\n",
      "[notice] A new release of pip is available: 25.0.1 -> 25.2\n",
      "[notice] To update, run: python.exe -m pip install --upgrade pip\n"
     ]
    }
   ],
   "source": [
    "!python -m spacy download pt_core_news_sm"
   ]
  },
  {
   "cell_type": "code",
   "execution_count": 2,
   "id": "16bcf6d2",
   "metadata": {},
   "outputs": [],
   "source": [
    "import pandas as pd\n",
    "import numpy as np\n",
    "import spacy\n",
    "import seaborn as sns\n",
    "import matplotlib.pyplot as plt\n",
    "from unidecode import unidecode\n",
    "from sklearn.feature_extraction.text import TfidfVectorizer\n",
    "from sklearn.metrics import classification_report, confusion_matrix\n",
    "from sklearn.model_selection import train_test_split\n",
    "from sklearn.linear_model import LogisticRegression\n",
    "from sklearn.ensemble import RandomForestClassifier\n",
    "from sklearn.pipeline import Pipeline\n",
    "from joblib import dump\n",
    "\n",
    "SEED = 654\n",
    "\n",
    "pln = spacy.load('pt_core_news_sm')"
   ]
  },
  {
   "cell_type": "markdown",
   "id": "81efe572",
   "metadata": {},
   "source": [
    "### Carregamento do dataset"
   ]
  },
  {
   "cell_type": "code",
   "execution_count": 3,
   "id": "46c96478",
   "metadata": {},
   "outputs": [
    {
     "data": {
      "text/html": [
       "<div>\n",
       "<style scoped>\n",
       "    .dataframe tbody tr th:only-of-type {\n",
       "        vertical-align: middle;\n",
       "    }\n",
       "\n",
       "    .dataframe tbody tr th {\n",
       "        vertical-align: top;\n",
       "    }\n",
       "\n",
       "    .dataframe thead th {\n",
       "        text-align: right;\n",
       "    }\n",
       "</style>\n",
       "<table border=\"1\" class=\"dataframe\">\n",
       "  <thead>\n",
       "    <tr style=\"text-align: right;\">\n",
       "      <th></th>\n",
       "      <th>frase</th>\n",
       "      <th>diagnostico</th>\n",
       "      <th>risco</th>\n",
       "    </tr>\n",
       "  </thead>\n",
       "  <tbody>\n",
       "    <tr>\n",
       "      <th>0</th>\n",
       "      <td>Sinto uma dor aguda no peito que surge ao subi...</td>\n",
       "      <td>Angina</td>\n",
       "      <td>Baixo Risco</td>\n",
       "    </tr>\n",
       "    <tr>\n",
       "      <th>1</th>\n",
       "      <td>Há dois dias, dor forte no peito irradia para ...</td>\n",
       "      <td>Infarto</td>\n",
       "      <td>Alto Risco</td>\n",
       "    </tr>\n",
       "    <tr>\n",
       "      <th>2</th>\n",
       "      <td>Estou exausto o dia todo, mesmo sem esforço, e...</td>\n",
       "      <td>Insuficiência Cardíaca</td>\n",
       "      <td>Baixo Risco</td>\n",
       "    </tr>\n",
       "    <tr>\n",
       "      <th>3</th>\n",
       "      <td>Meu coração acelera de repente durante reuniõe...</td>\n",
       "      <td>Arritmia</td>\n",
       "      <td>Alto Risco</td>\n",
       "    </tr>\n",
       "    <tr>\n",
       "      <th>4</th>\n",
       "      <td>Pressão no peito ao estressar no trabalho, ali...</td>\n",
       "      <td>Angina</td>\n",
       "      <td>Baixo Risco</td>\n",
       "    </tr>\n",
       "  </tbody>\n",
       "</table>\n",
       "</div>"
      ],
      "text/plain": [
       "                                               frase             diagnostico  \\\n",
       "0  Sinto uma dor aguda no peito que surge ao subi...                  Angina   \n",
       "1  Há dois dias, dor forte no peito irradia para ...                 Infarto   \n",
       "2  Estou exausto o dia todo, mesmo sem esforço, e...  Insuficiência Cardíaca   \n",
       "3  Meu coração acelera de repente durante reuniõe...                Arritmia   \n",
       "4  Pressão no peito ao estressar no trabalho, ali...                  Angina   \n",
       "\n",
       "         risco  \n",
       "0  Baixo Risco  \n",
       "1   Alto Risco  \n",
       "2  Baixo Risco  \n",
       "3   Alto Risco  \n",
       "4  Baixo Risco  "
      ]
     },
     "execution_count": 3,
     "metadata": {},
     "output_type": "execute_result"
    }
   ],
   "source": [
    "df = pd.read_csv('../dataset/sintomas_doencas_cardiacas.csv')\n",
    "df.head()"
   ]
  },
  {
   "cell_type": "code",
   "execution_count": 4,
   "id": "679c5067",
   "metadata": {},
   "outputs": [
    {
     "name": "stdout",
     "output_type": "stream",
     "text": [
      "<class 'pandas.core.frame.DataFrame'>\n",
      "RangeIndex: 100 entries, 0 to 99\n",
      "Data columns (total 3 columns):\n",
      " #   Column       Non-Null Count  Dtype \n",
      "---  ------       --------------  ----- \n",
      " 0   frase        100 non-null    object\n",
      " 1   diagnostico  100 non-null    object\n",
      " 2   risco        100 non-null    object\n",
      "dtypes: object(3)\n",
      "memory usage: 2.5+ KB\n"
     ]
    }
   ],
   "source": [
    "df.info()"
   ]
  },
  {
   "cell_type": "code",
   "execution_count": 5,
   "id": "fbf4a06a",
   "metadata": {},
   "outputs": [
    {
     "data": {
      "text/plain": [
       "Text(0, 0.5, 'Contagem')"
      ]
     },
     "execution_count": 5,
     "metadata": {},
     "output_type": "execute_result"
    },
    {
     "data": {
      "image/png": "[encoded data removed]",
      "text/plain": [
       "<Figure size 640x480 with 1 Axes>"
      ]
     },
     "metadata": {},
     "output_type": "display_data"
    }
   ],
   "source": [
    "sns.countplot(df, x='risco')\n",
    "plt.xlabel('Risco')\n",
    "plt.ylabel('Contagem')"
   ]
  },
  {
   "cell_type": "markdown",
   "id": "d62da07e",
   "metadata": {},
   "source": [
    "### Pré-processamento dos dados textuais"
   ]
  },
  {
   "cell_type": "code",
   "execution_count": 6,
   "id": "8e4f1b66",
   "metadata": {},
   "outputs": [],
   "source": [
    "def text_processing(txt: str):\n",
    "    \"\"\"_summary_\n",
    "\n",
    "    Args:\n",
    "        txt (str): Texto a ser processado\n",
    "        \n",
    "    - Normaliza para minúsculas.\n",
    "    - Remove stopwords, pontuações, acentuações e digítos numéricos.\n",
    "    - Padroniza as palavras com a Lematização.\n",
    "    \"\"\"\n",
    "    txt = txt.lower()\n",
    "    doc = pln(txt)\n",
    "    \n",
    "    words: list[str] = []\n",
    "    \n",
    "    for token in doc:\n",
    "        if not token.is_stop and not token.is_punct and token.is_alpha:\n",
    "            words.append(token.lemma_)\n",
    "    \n",
    "    words = ' '.join(unidecode(word) for word in words)\n",
    "    return words"
   ]
  },
  {
   "cell_type": "code",
   "execution_count": 7,
   "id": "f31da2c7",
   "metadata": {},
   "outputs": [
    {
     "data": {
      "text/html": [
       "<div>\n",
       "<style scoped>\n",
       "    .dataframe tbody tr th:only-of-type {\n",
       "        vertical-align: middle;\n",
       "    }\n",
       "\n",
       "    .dataframe tbody tr th {\n",
       "        vertical-align: top;\n",
       "    }\n",
       "\n",
       "    .dataframe thead th {\n",
       "        text-align: right;\n",
       "    }\n",
       "</style>\n",
       "<table border=\"1\" class=\"dataframe\">\n",
       "  <thead>\n",
       "    <tr style=\"text-align: right;\">\n",
       "      <th></th>\n",
       "      <th>frase</th>\n",
       "      <th>diagnostico</th>\n",
       "      <th>risco</th>\n",
       "      <th>frase_processada</th>\n",
       "    </tr>\n",
       "  </thead>\n",
       "  <tbody>\n",
       "    <tr>\n",
       "      <th>0</th>\n",
       "      <td>Sinto uma dor aguda no peito que surge ao subi...</td>\n",
       "      <td>Angina</td>\n",
       "      <td>Baixo Risco</td>\n",
       "      <td>sinto dor aguda peito surgir subir escar durar...</td>\n",
       "    </tr>\n",
       "    <tr>\n",
       "      <th>1</th>\n",
       "      <td>Há dois dias, dor forte no peito irradia para ...</td>\n",
       "      <td>Infarto</td>\n",
       "      <td>Alto Risco</td>\n",
       "      <td>haver dia dor forte peito irradir braco esquer...</td>\n",
       "    </tr>\n",
       "    <tr>\n",
       "      <th>2</th>\n",
       "      <td>Estou exausto o dia todo, mesmo sem esforço, e...</td>\n",
       "      <td>Insuficiência Cardíaca</td>\n",
       "      <td>Baixo Risco</td>\n",
       "      <td>exausto dia esforco incho pe noite</td>\n",
       "    </tr>\n",
       "    <tr>\n",
       "      <th>3</th>\n",
       "      <td>Meu coração acelera de repente durante reuniõe...</td>\n",
       "      <td>Arritmia</td>\n",
       "      <td>Alto Risco</td>\n",
       "      <td>coracao acelerar repente durante reuniao sensa...</td>\n",
       "    </tr>\n",
       "    <tr>\n",
       "      <th>4</th>\n",
       "      <td>Pressão no peito ao estressar no trabalho, ali...</td>\n",
       "      <td>Angina</td>\n",
       "      <td>Baixo Risco</td>\n",
       "      <td>pressao peito estressar trabalho aliviar sentar</td>\n",
       "    </tr>\n",
       "  </tbody>\n",
       "</table>\n",
       "</div>"
      ],
      "text/plain": [
       "                                               frase             diagnostico  \\\n",
       "0  Sinto uma dor aguda no peito que surge ao subi...                  Angina   \n",
       "1  Há dois dias, dor forte no peito irradia para ...                 Infarto   \n",
       "2  Estou exausto o dia todo, mesmo sem esforço, e...  Insuficiência Cardíaca   \n",
       "3  Meu coração acelera de repente durante reuniõe...                Arritmia   \n",
       "4  Pressão no peito ao estressar no trabalho, ali...                  Angina   \n",
       "\n",
       "         risco                                   frase_processada  \n",
       "0  Baixo Risco  sinto dor aguda peito surgir subir escar durar...  \n",
       "1   Alto Risco  haver dia dor forte peito irradir braco esquer...  \n",
       "2  Baixo Risco                 exausto dia esforco incho pe noite  \n",
       "3   Alto Risco  coracao acelerar repente durante reuniao sensa...  \n",
       "4  Baixo Risco    pressao peito estressar trabalho aliviar sentar  "
      ]
     },
     "execution_count": 7,
     "metadata": {},
     "output_type": "execute_result"
    }
   ],
   "source": [
    "df['frase_processada'] = df['frase'].apply(text_processing)\n",
    "df.head()"
   ]
  },
  {
   "cell_type": "markdown",
   "id": "98025dee",
   "metadata": {},
   "source": [
    "Realizado estratificação dos dados (equilibrar os rótulos entre treino e teste) para melhorar o desempenho do modelo."
   ]
  },
  {
   "cell_type": "code",
   "execution_count": 8,
   "id": "923f23f7",
   "metadata": {},
   "outputs": [],
   "source": [
    "X_train, X_test, y_train, y_test = train_test_split(df['frase_processada'], df['risco'], stratify=df['risco'], random_state=SEED)"
   ]
  },
  {
   "cell_type": "markdown",
   "id": "efc0d89a",
   "metadata": {},
   "source": [
    "### Treinamento de alguns modelos de classificação\n",
    "\n",
    "**Pipeline com Tokenização das frases com TF-IDF e Ngrams**\n",
    "\n",
    "A pipeline transforma os dados textuais em um vetor chamada de *Bolsa de Palavras (Bag of Words - Bow)*, define as propriedades *lowercase* como false pois já é realizado a normalização dos textos em minúsculas e a propriedade *ngram_range* gerá palavras individuais e bigramas."
   ]
  },
  {
   "cell_type": "code",
   "execution_count": 9,
   "id": "24ebd594",
   "metadata": {},
   "outputs": [],
   "source": [
    "labels = np.unique(df['risco'])"
   ]
  },
  {
   "cell_type": "markdown",
   "id": "c4de1152",
   "metadata": {},
   "source": [
    "**Regressão Logística**"
   ]
  },
  {
   "cell_type": "code",
   "execution_count": 10,
   "id": "48537d5f",
   "metadata": {},
   "outputs": [
    {
     "name": "stdout",
     "output_type": "stream",
     "text": [
      "Acurácia do modelo: 80.00%\n"
     ]
    }
   ],
   "source": [
    "lr_pipeline = Pipeline([\n",
    "    ('vectorizer', TfidfVectorizer(lowercase=False, max_features=1000, ngram_range=(1,2))),\n",
    "    ('estimator', LogisticRegression())\n",
    "])\n",
    "\n",
    "lr_pipeline.fit(X_train, y_train)\n",
    "\n",
    "lr_model_acc = lr_pipeline.score(X_test, y_test)\n",
    "print(f'Acurácia do modelo: {lr_model_acc*100:.2f}%')"
   ]
  },
  {
   "cell_type": "code",
   "execution_count": 11,
   "id": "c1c67b18",
   "metadata": {},
   "outputs": [
    {
     "data": {
      "image/png": "[encoded data removed]",
      "text/plain": [
       "<Figure size 1200x600 with 1 Axes>"
      ]
     },
     "metadata": {},
     "output_type": "display_data"
    }
   ],
   "source": [
    "predicts_lr = lr_pipeline.predict(X_test)\n",
    "\n",
    "cm_lr = confusion_matrix(y_test, predicts_lr)\n",
    "\n",
    "plt.figure(figsize=(12,6))\n",
    "sns.heatmap(cm_lr, annot=True, fmt='d', cmap='Blues', cbar=False,\n",
    "            xticklabels=labels, yticklabels=labels)\n",
    "plt.xlabel('Valores Preditos')\n",
    "plt.ylabel('Valores Reais')\n",
    "plt.title('Matriz de Confusão')\n",
    "plt.show()"
   ]
  },
  {
   "cell_type": "code",
   "execution_count": 12,
   "id": "22b1a891",
   "metadata": {},
   "outputs": [
    {
     "name": "stdout",
     "output_type": "stream",
     "text": [
      "              precision    recall  f1-score   support\n",
      "\n",
      "  Alto Risco       0.88      0.64      0.74        11\n",
      " Baixo Risco       0.76      0.93      0.84        14\n",
      "\n",
      "    accuracy                           0.80        25\n",
      "   macro avg       0.82      0.78      0.79        25\n",
      "weighted avg       0.81      0.80      0.79        25\n",
      "\n"
     ]
    }
   ],
   "source": [
    "print(classification_report(y_test, predicts_lr, zero_division=False))"
   ]
  },
  {
   "cell_type": "markdown",
   "id": "2f59baea",
   "metadata": {},
   "source": [
    "**Floresta Aleatória**"
   ]
  },
  {
   "cell_type": "code",
   "execution_count": 13,
   "id": "3b61c3ae",
   "metadata": {},
   "outputs": [
    {
     "name": "stdout",
     "output_type": "stream",
     "text": [
      "Acurácia do modelo: 80.00%\n"
     ]
    }
   ],
   "source": [
    "rf_pipeline = Pipeline([\n",
    "    ('vectorizer', TfidfVectorizer(lowercase=False, max_features=1000, ngram_range=(1,2))),\n",
    "    ('estimator', RandomForestClassifier(random_state=SEED))\n",
    "])\n",
    "\n",
    "rf_pipeline.fit(X_train, y_train)\n",
    "\n",
    "rf_model_acc = rf_pipeline.score(X_test, y_test)\n",
    "print(f'Acurácia do modelo: {rf_model_acc*100:.2f}%')"
   ]
  },
  {
   "cell_type": "code",
   "execution_count": 14,
   "id": "52f4bd69",
   "metadata": {},
   "outputs": [
    {
     "data": {
      "image/png": "[encoded data removed]",
      "text/plain": [
       "<Figure size 1200x600 with 1 Axes>"
      ]
     },
     "metadata": {},
     "output_type": "display_data"
    }
   ],
   "source": [
    "predicts_rf = rf_pipeline.predict(X_test)\n",
    "\n",
    "cm_rf = confusion_matrix(y_test, predicts_rf)\n",
    "\n",
    "plt.figure(figsize=(12,6))\n",
    "sns.heatmap(cm_rf, annot=True, fmt='d', cmap='Blues', cbar=False,\n",
    "            xticklabels=labels, yticklabels=labels)\n",
    "plt.xlabel('Valores Preditos')\n",
    "plt.ylabel('Valores Reais')\n",
    "plt.title('Matriz de Confusão')\n",
    "plt.show()"
   ]
  },
  {
   "cell_type": "code",
   "execution_count": 15,
   "id": "e12080e8",
   "metadata": {},
   "outputs": [
    {
     "name": "stdout",
     "output_type": "stream",
     "text": [
      "              precision    recall  f1-score   support\n",
      "\n",
      "  Alto Risco       0.88      0.64      0.74        11\n",
      " Baixo Risco       0.76      0.93      0.84        14\n",
      "\n",
      "    accuracy                           0.80        25\n",
      "   macro avg       0.82      0.78      0.79        25\n",
      "weighted avg       0.81      0.80      0.79        25\n",
      "\n"
     ]
    }
   ],
   "source": [
    "print(classification_report(y_test, predicts_lr, zero_division=False))"
   ]
  },
  {
   "cell_type": "markdown",
   "id": "6a840554",
   "metadata": {},
   "source": [
    "### Testes com frases"
   ]
  },
  {
   "cell_type": "code",
   "execution_count": 16,
   "id": "970653b2",
   "metadata": {},
   "outputs": [],
   "source": [
    "texts = [\n",
    "    'estou sentindo uma dor forte no peito',\n",
    "    'sinto um cansaço extremo mesmo descansado',\n",
    "    'as vezes sinto meu coração falhar',\n",
    "    'sinto um estranho aperto no peito com pouco esforço'\n",
    "]"
   ]
  },
  {
   "cell_type": "code",
   "execution_count": 17,
   "id": "6011e698",
   "metadata": {},
   "outputs": [
    {
     "data": {
      "text/plain": [
       "array(['Alto Risco', 'Baixo Risco', 'Baixo Risco', 'Baixo Risco'],\n",
       "      dtype=object)"
      ]
     },
     "execution_count": 17,
     "metadata": {},
     "output_type": "execute_result"
    }
   ],
   "source": [
    "predicts = lr_pipeline.predict(texts)\n",
    "predicts"
   ]
  },
  {
   "cell_type": "markdown",
   "id": "8bf04ca8",
   "metadata": {},
   "source": [
    "**Exportação do melhor modelo (Regressão Logística)**"
   ]
  },
  {
   "cell_type": "code",
   "execution_count": 18,
   "id": "4acdf7b4",
   "metadata": {},
   "outputs": [
    {
     "data": {
      "text/plain": [
       "['modelo_nivel_risco_lr_pipeline.joblib']"
      ]
     },
     "execution_count": 18,
     "metadata": {},
     "output_type": "execute_result"
    }
   ],
   "source": [
    "dump(lr_pipeline, 'modelo_nivel_risco_lr_pipeline.joblib')"
   ]
  },
  {
   "cell_type": "markdown",
   "id": "99bde171",
   "metadata": {},
   "source": [
    "## Conclusão\n",
    "\n",
    "Pelo fato de termos gerado as frases de sintomas de pacientes de forma sintética é possível que a pontuação adquirida não reflita a realidade, seja por algum tipo enviesamento, seja pela ausência de uma revisão geral em todas as frases geradas, por isso, não é uma base de dados recomendada para utilizar em ambientes de produção. Porém, o fluxo do algoritmo pode ser reutilizado para diversos contextos além de problemas médicos, pois o processo que fizemos de pré-processamento e tokenização com a estratégia da lematização é genérico, assim como, o processo de treinamento e teste do modelo também poderiam ser reutilizados para outros problemas."
   ]
  }
 ],
 "metadata": {
  "kernelspec": {
   "display_name": "Python 3",
   "language": "python",
   "name": "python3"
  },
  "language_info": {
   "codemirror_mode": {
    "name": "ipython",
    "version": 3
   },
   "file_extension": ".py",
   "mimetype": "text/x-python",
   "name": "python",
   "nbconvert_exporter": "python",
   "pygments_lexer": "ipython3",
   "version": "3.12.10"
  }
 },
 "nbformat": 4,
 "nbformat_minor": 5
}
