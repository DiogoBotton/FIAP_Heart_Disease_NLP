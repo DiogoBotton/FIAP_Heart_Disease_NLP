{
 "cells": [
  {
   "cell_type": "code",
   "execution_count": 1,
   "id": "0eefb941",
   "metadata": {},
   "outputs": [
    {
     "name": "stderr",
     "output_type": "stream",
     "text": [
      "/home/wolf/anaconda3/envs/spero-env/lib/python3.11/site-packages/tqdm/auto.py:21: TqdmWarning: IProgress not found. Please update jupyter and ipywidgets. See https://ipywidgets.readthedocs.io/en/stable/user_install.html\n",
      "  from .autonotebook import tqdm as notebook_tqdm\n",
      "2025-09-18 14:04:09.836699: I tensorflow/core/util/port.cc:153] oneDNN custom operations are on. You may see slightly different numerical results due to floating-point round-off errors from different computation orders. To turn them off, set the environment variable `TF_ENABLE_ONEDNN_OPTS=0`.\n",
      "2025-09-18 14:04:10.384759: I tensorflow/core/platform/cpu_feature_guard.cc:210] This TensorFlow binary is optimized to use available CPU instructions in performance-critical operations.\n",
      "To enable the following instructions: AVX2 AVX_VNNI FMA, in other operations, rebuild TensorFlow with the appropriate compiler flags.\n",
      "2025-09-18 14:04:13.371828: I tensorflow/core/util/port.cc:153] oneDNN custom operations are on. You may see slightly different numerical results due to floating-point round-off errors from different computation orders. To turn them off, set the environment variable `TF_ENABLE_ONEDNN_OPTS=0`.\n",
      "\n",
      "A module that was compiled using NumPy 1.x cannot be run in\n",
      "NumPy 2.3.3 as it may crash. To support both 1.x and 2.x\n",
      "versions of NumPy, modules must be compiled with NumPy 2.0.\n",
      "Some module may need to rebuild instead e.g. with 'pybind11>=2.12'.\n",
      "\n",
      "If you are a user of the module, the easiest solution will be to\n",
      "downgrade to 'numpy<2' or try to upgrade the affected module.\n",
      "We expect that some modules will need time to support NumPy 2.\n",
      "\n",
      "Traceback (most recent call last):  File \"<frozen runpy>\", line 198, in _run_module_as_main\n",
      "  File \"<frozen runpy>\", line 88, in _run_code\n",
      "  File \"/home/wolf/anaconda3/envs/spero-env/lib/python3.11/site-packages/ipykernel_launcher.py\", line 18, in <module>\n",
      "    app.launch_new_instance()\n",
      "  File \"/home/wolf/anaconda3/envs/spero-env/lib/python3.11/site-packages/traitlets/config/application.py\", line 1075, in launch_instance\n",
      "    app.start()\n",
      "  File \"/home/wolf/anaconda3/envs/spero-env/lib/python3.11/site-packages/ipykernel/kernelapp.py\", line 739, in start\n",
      "    self.io_loop.start()\n",
      "  File \"/home/wolf/anaconda3/envs/spero-env/lib/python3.11/site-packages/tornado/platform/asyncio.py\", line 205, in start\n",
      "    self.asyncio_loop.run_forever()\n",
      "  File \"/home/wolf/anaconda3/envs/spero-env/lib/python3.11/asyncio/base_events.py\", line 608, in run_forever\n",
      "    self._run_once()\n",
      "  File \"/home/wolf/anaconda3/envs/spero-env/lib/python3.11/asyncio/base_events.py\", line 1936, in _run_once\n",
      "    handle._run()\n",
      "  File \"/home/wolf/anaconda3/envs/spero-env/lib/python3.11/asyncio/events.py\", line 84, in _run\n",
      "    self._context.run(self._callback, *self._args)\n",
      "  File \"/home/wolf/anaconda3/envs/spero-env/lib/python3.11/site-packages/ipykernel/kernelbase.py\", line 545, in dispatch_queue\n",
      "    await self.process_one()\n",
      "  File \"/home/wolf/anaconda3/envs/spero-env/lib/python3.11/site-packages/ipykernel/kernelbase.py\", line 534, in process_one\n",
      "    await dispatch(*args)\n",
      "  File \"/home/wolf/anaconda3/envs/spero-env/lib/python3.11/site-packages/ipykernel/kernelbase.py\", line 437, in dispatch_shell\n",
      "    await result\n",
      "  File \"/home/wolf/anaconda3/envs/spero-env/lib/python3.11/site-packages/ipykernel/ipkernel.py\", line 362, in execute_request\n",
      "    await super().execute_request(stream, ident, parent)\n",
      "  File \"/home/wolf/anaconda3/envs/spero-env/lib/python3.11/site-packages/ipykernel/kernelbase.py\", line 778, in execute_request\n",
      "    reply_content = await reply_content\n",
      "  File \"/home/wolf/anaconda3/envs/spero-env/lib/python3.11/site-packages/ipykernel/ipkernel.py\", line 449, in do_execute\n",
      "    res = shell.run_cell(\n",
      "  File \"/home/wolf/anaconda3/envs/spero-env/lib/python3.11/site-packages/ipykernel/zmqshell.py\", line 549, in run_cell\n",
      "    return super().run_cell(*args, **kwargs)\n",
      "  File \"/home/wolf/anaconda3/envs/spero-env/lib/python3.11/site-packages/IPython/core/interactiveshell.py\", line 3075, in run_cell\n",
      "    result = self._run_cell(\n",
      "  File \"/home/wolf/anaconda3/envs/spero-env/lib/python3.11/site-packages/IPython/core/interactiveshell.py\", line 3130, in _run_cell\n",
      "    result = runner(coro)\n",
      "  File \"/home/wolf/anaconda3/envs/spero-env/lib/python3.11/site-packages/IPython/core/async_helpers.py\", line 128, in _pseudo_sync_runner\n",
      "    coro.send(None)\n",
      "  File \"/home/wolf/anaconda3/envs/spero-env/lib/python3.11/site-packages/IPython/core/interactiveshell.py\", line 3334, in run_cell_async\n",
      "    has_raised = await self.run_ast_nodes(code_ast.body, cell_name,\n",
      "  File \"/home/wolf/anaconda3/envs/spero-env/lib/python3.11/site-packages/IPython/core/interactiveshell.py\", line 3517, in run_ast_nodes\n",
      "    if await self.run_code(code, result, async_=asy):\n",
      "  File \"/home/wolf/anaconda3/envs/spero-env/lib/python3.11/site-packages/IPython/core/interactiveshell.py\", line 3577, in run_code\n",
      "    exec(code_obj, self.user_global_ns, self.user_ns)\n",
      "  File \"/tmp/ipykernel_9256/1804961460.py\", line 3, in <module>\n",
      "    from transformers import pipeline\n",
      "  File \"/home/wolf/anaconda3/envs/spero-env/lib/python3.11/site-packages/transformers/utils/import_utils.py\", line 2302, in __getattr__\n",
      "    module = self._get_module(self._class_to_module[name])\n",
      "  File \"/home/wolf/anaconda3/envs/spero-env/lib/python3.11/site-packages/transformers/utils/import_utils.py\", line 2330, in _get_module\n",
      "    return importlib.import_module(\".\" + module_name, self.__name__)\n",
      "  File \"/home/wolf/anaconda3/envs/spero-env/lib/python3.11/importlib/__init__.py\", line 126, in import_module\n",
      "    return _bootstrap._gcd_import(name[level:], package, level)\n",
      "  File \"/home/wolf/anaconda3/envs/spero-env/lib/python3.11/site-packages/transformers/pipelines/__init__.py\", line 26, in <module>\n",
      "    from ..image_processing_utils import BaseImageProcessor\n",
      "  File \"/home/wolf/anaconda3/envs/spero-env/lib/python3.11/site-packages/transformers/image_processing_utils.py\", line 22, in <module>\n",
      "    from .image_transforms import center_crop, normalize, rescale\n",
      "  File \"/home/wolf/anaconda3/envs/spero-env/lib/python3.11/site-packages/transformers/image_transforms.py\", line 48, in <module>\n",
      "    import tensorflow as tf\n",
      "  File \"/home/wolf/anaconda3/envs/spero-env/lib/python3.11/site-packages/tensorflow/__init__.py\", line 468, in <module>\n",
      "    importlib.import_module(\"keras.src.optimizers\")\n",
      "  File \"/home/wolf/anaconda3/envs/spero-env/lib/python3.11/importlib/__init__.py\", line 126, in import_module\n",
      "    return _bootstrap._gcd_import(name[level:], package, level)\n",
      "  File \"/home/wolf/anaconda3/envs/spero-env/lib/python3.11/site-packages/keras/__init__.py\", line 7, in <module>\n",
      "    from keras import _tf_keras as _tf_keras\n",
      "  File \"/home/wolf/anaconda3/envs/spero-env/lib/python3.11/site-packages/keras/_tf_keras/__init__.py\", line 1, in <module>\n",
      "    from keras._tf_keras import keras\n",
      "  File \"/home/wolf/anaconda3/envs/spero-env/lib/python3.11/site-packages/keras/_tf_keras/keras/__init__.py\", line 7, in <module>\n",
      "    from keras import activations as activations\n",
      "  File \"/home/wolf/anaconda3/envs/spero-env/lib/python3.11/site-packages/keras/activations/__init__.py\", line 7, in <module>\n",
      "    from keras.src.activations import deserialize as deserialize\n",
      "  File \"/home/wolf/anaconda3/envs/spero-env/lib/python3.11/site-packages/keras/src/__init__.py\", line 13, in <module>\n",
      "    from keras.src import visualization\n",
      "  File \"/home/wolf/anaconda3/envs/spero-env/lib/python3.11/site-packages/keras/src/visualization/__init__.py\", line 1, in <module>\n",
      "    from keras.src.visualization import draw_bounding_boxes\n",
      "  File \"/home/wolf/anaconda3/envs/spero-env/lib/python3.11/site-packages/keras/src/visualization/draw_bounding_boxes.py\", line 11, in <module>\n",
      "    import cv2\n"
     ]
    },
    {
     "ename": "AttributeError",
     "evalue": "_ARRAY_API not found",
     "output_type": "error",
     "traceback": [
      "\u001b[0;31m---------------------------------------------------------------------------\u001b[0m",
      "\u001b[0;31mAttributeError\u001b[0m                            Traceback (most recent call last)",
      "\u001b[0;31mAttributeError\u001b[0m: _ARRAY_API not found"
     ]
    }
   ],
   "source": [
    "import pandas as pd\n",
    "from datasets import load_dataset\n",
    "from transformers import pipeline\n",
    "from googletrans import Translator\n",
    "import random"
   ]
  },
  {
   "cell_type": "code",
   "execution_count": 2,
   "id": "d89b7d97",
   "metadata": {},
   "outputs": [],
   "source": [
    "dataset = load_dataset('lvimuth/HealthRisk-1500-Medical-Risk-Prediction')"
   ]
  },
  {
   "cell_type": "code",
   "execution_count": 3,
   "id": "9084eeb4",
   "metadata": {},
   "outputs": [
    {
     "data": {
      "text/plain": [
       "DatasetDict({\n",
       "    train: Dataset({\n",
       "        features: ['Patient_ID', 'Age', 'Gender', 'Symptoms', 'Medical_History', 'Medications', 'Lab_Reports', 'Lifestyle', 'Doctor_Notes', 'Diagnosis', 'Risk_Level'],\n",
       "        num_rows: 1500\n",
       "    })\n",
       "})"
      ]
     },
     "execution_count": 3,
     "metadata": {},
     "output_type": "execute_result"
    }
   ],
   "source": [
    "dataset"
   ]
  },
  {
   "cell_type": "code",
   "execution_count": 4,
   "id": "5cbd8886",
   "metadata": {},
   "outputs": [
    {
     "data": {
      "text/html": [
       "<div>\n",
       "<style scoped>\n",
       "    .dataframe tbody tr th:only-of-type {\n",
       "        vertical-align: middle;\n",
       "    }\n",
       "\n",
       "    .dataframe tbody tr th {\n",
       "        vertical-align: top;\n",
       "    }\n",
       "\n",
       "    .dataframe thead th {\n",
       "        text-align: right;\n",
       "    }\n",
       "</style>\n",
       "<table border=\"1\" class=\"dataframe\">\n",
       "  <thead>\n",
       "    <tr style=\"text-align: right;\">\n",
       "      <th></th>\n",
       "      <th>Patient_ID</th>\n",
       "      <th>Age</th>\n",
       "      <th>Gender</th>\n",
       "      <th>Symptoms</th>\n",
       "      <th>Medical_History</th>\n",
       "      <th>Medications</th>\n",
       "      <th>Lab_Reports</th>\n",
       "      <th>Lifestyle</th>\n",
       "      <th>Doctor_Notes</th>\n",
       "      <th>Diagnosis</th>\n",
       "      <th>Risk_Level</th>\n",
       "    </tr>\n",
       "  </thead>\n",
       "  <tbody>\n",
       "    <tr>\n",
       "      <th>0</th>\n",
       "      <td>P0001</td>\n",
       "      <td>69</td>\n",
       "      <td>Female</td>\n",
       "      <td>Memory loss, confusion</td>\n",
       "      <td>Stroke history</td>\n",
       "      <td>Ibuprofen</td>\n",
       "      <td>High blood sugar</td>\n",
       "      <td>Healthy diet</td>\n",
       "      <td>Reports difficulty breathing, requires further...</td>\n",
       "      <td>Cancer Screening Needed</td>\n",
       "      <td>Medium</td>\n",
       "    </tr>\n",
       "    <tr>\n",
       "      <th>1</th>\n",
       "      <td>P0002</td>\n",
       "      <td>61</td>\n",
       "      <td>Male</td>\n",
       "      <td>Shortness of breath, dizziness</td>\n",
       "      <td>Arthritis</td>\n",
       "      <td>Levothyroxine</td>\n",
       "      <td>High blood pressure</td>\n",
       "      <td>Smoker</td>\n",
       "      <td>Nausea reported, possible gastrointestinal issue</td>\n",
       "      <td>Respiratory Infection</td>\n",
       "      <td>Medium</td>\n",
       "    </tr>\n",
       "    <tr>\n",
       "      <th>2</th>\n",
       "      <td>P0003</td>\n",
       "      <td>29</td>\n",
       "      <td>Male</td>\n",
       "      <td>Shortness of breath, dizziness</td>\n",
       "      <td>Arthritis</td>\n",
       "      <td>Omeprazole</td>\n",
       "      <td>Irregular heartbeat detected</td>\n",
       "      <td>Drinker</td>\n",
       "      <td>Sudden weight loss unexplained, requires evalu...</td>\n",
       "      <td>Migraine</td>\n",
       "      <td>Low</td>\n",
       "    </tr>\n",
       "    <tr>\n",
       "      <th>3</th>\n",
       "      <td>P0004</td>\n",
       "      <td>63</td>\n",
       "      <td>Male</td>\n",
       "      <td>High fever, body aches</td>\n",
       "      <td>Asthma</td>\n",
       "      <td>Aspirin</td>\n",
       "      <td>High cholesterol</td>\n",
       "      <td>Active</td>\n",
       "      <td>Mild symptoms but family history is concerning</td>\n",
       "      <td>Arthritis</td>\n",
       "      <td>Medium</td>\n",
       "    </tr>\n",
       "    <tr>\n",
       "      <th>4</th>\n",
       "      <td>P0005</td>\n",
       "      <td>46</td>\n",
       "      <td>Female</td>\n",
       "      <td>Joint pain, swelling</td>\n",
       "      <td>No known history</td>\n",
       "      <td>Omeprazole</td>\n",
       "      <td>High blood sugar</td>\n",
       "      <td>Drinker</td>\n",
       "      <td>Heart palpitations observed, needs ECG</td>\n",
       "      <td>Arthritis</td>\n",
       "      <td>Medium</td>\n",
       "    </tr>\n",
       "  </tbody>\n",
       "</table>\n",
       "</div>"
      ],
      "text/plain": [
       "  Patient_ID  Age  Gender                        Symptoms   Medical_History  \\\n",
       "0      P0001   69  Female          Memory loss, confusion    Stroke history   \n",
       "1      P0002   61    Male  Shortness of breath, dizziness         Arthritis   \n",
       "2      P0003   29    Male  Shortness of breath, dizziness         Arthritis   \n",
       "3      P0004   63    Male          High fever, body aches            Asthma   \n",
       "4      P0005   46  Female            Joint pain, swelling  No known history   \n",
       "\n",
       "     Medications                   Lab_Reports     Lifestyle  \\\n",
       "0      Ibuprofen              High blood sugar  Healthy diet   \n",
       "1  Levothyroxine           High blood pressure        Smoker   \n",
       "2     Omeprazole  Irregular heartbeat detected       Drinker   \n",
       "3        Aspirin              High cholesterol        Active   \n",
       "4     Omeprazole              High blood sugar       Drinker   \n",
       "\n",
       "                                        Doctor_Notes                Diagnosis  \\\n",
       "0  Reports difficulty breathing, requires further...  Cancer Screening Needed   \n",
       "1   Nausea reported, possible gastrointestinal issue    Respiratory Infection   \n",
       "2  Sudden weight loss unexplained, requires evalu...                 Migraine   \n",
       "3     Mild symptoms but family history is concerning                Arthritis   \n",
       "4             Heart palpitations observed, needs ECG                Arthritis   \n",
       "\n",
       "  Risk_Level  \n",
       "0     Medium  \n",
       "1     Medium  \n",
       "2        Low  \n",
       "3     Medium  \n",
       "4     Medium  "
      ]
     },
     "execution_count": 4,
     "metadata": {},
     "output_type": "execute_result"
    }
   ],
   "source": [
    "df = pd.DataFrame(dataset['train'])\n",
    "df.head()"
   ]
  },
  {
   "cell_type": "code",
   "execution_count": 5,
   "id": "27da24a5",
   "metadata": {},
   "outputs": [
    {
     "name": "stdout",
     "output_type": "stream",
     "text": [
      "<class 'pandas.core.frame.DataFrame'>\n",
      "RangeIndex: 1500 entries, 0 to 1499\n",
      "Data columns (total 11 columns):\n",
      " #   Column           Non-Null Count  Dtype \n",
      "---  ------           --------------  ----- \n",
      " 0   Patient_ID       1500 non-null   object\n",
      " 1   Age              1500 non-null   int64 \n",
      " 2   Gender           1500 non-null   object\n",
      " 3   Symptoms         1500 non-null   object\n",
      " 4   Medical_History  1500 non-null   object\n",
      " 5   Medications      1338 non-null   object\n",
      " 6   Lab_Reports      1500 non-null   object\n",
      " 7   Lifestyle        1500 non-null   object\n",
      " 8   Doctor_Notes     1500 non-null   object\n",
      " 9   Diagnosis        1500 non-null   object\n",
      " 10  Risk_Level       1500 non-null   object\n",
      "dtypes: int64(1), object(10)\n",
      "memory usage: 129.0+ KB\n"
     ]
    }
   ],
   "source": [
    "df.info()"
   ]
  },
  {
   "cell_type": "code",
   "execution_count": 6,
   "id": "fa0fec95",
   "metadata": {},
   "outputs": [
    {
     "data": {
      "text/html": [
       "<div>\n",
       "<style scoped>\n",
       "    .dataframe tbody tr th:only-of-type {\n",
       "        vertical-align: middle;\n",
       "    }\n",
       "\n",
       "    .dataframe tbody tr th {\n",
       "        vertical-align: top;\n",
       "    }\n",
       "\n",
       "    .dataframe thead th {\n",
       "        text-align: right;\n",
       "    }\n",
       "</style>\n",
       "<table border=\"1\" class=\"dataframe\">\n",
       "  <thead>\n",
       "    <tr style=\"text-align: right;\">\n",
       "      <th></th>\n",
       "      <th>Patient_ID</th>\n",
       "      <th>Age</th>\n",
       "      <th>Gender</th>\n",
       "      <th>Symptoms</th>\n",
       "      <th>Medical_History</th>\n",
       "      <th>Medications</th>\n",
       "      <th>Lab_Reports</th>\n",
       "      <th>Lifestyle</th>\n",
       "      <th>Doctor_Notes</th>\n",
       "      <th>Diagnosis</th>\n",
       "      <th>Risk_Level</th>\n",
       "    </tr>\n",
       "  </thead>\n",
       "  <tbody>\n",
       "    <tr>\n",
       "      <th>7</th>\n",
       "      <td>P0008</td>\n",
       "      <td>24</td>\n",
       "      <td>Female</td>\n",
       "      <td>Chest pain, fatigue</td>\n",
       "      <td>Hypertension</td>\n",
       "      <td>Ibuprofen</td>\n",
       "      <td>Irregular heartbeat detected</td>\n",
       "      <td>Sedentary</td>\n",
       "      <td>Patient forgets daily activities, early dement...</td>\n",
       "      <td>Heart Disease</td>\n",
       "      <td>Low</td>\n",
       "    </tr>\n",
       "    <tr>\n",
       "      <th>8</th>\n",
       "      <td>P0009</td>\n",
       "      <td>36</td>\n",
       "      <td>Female</td>\n",
       "      <td>High fever, body aches</td>\n",
       "      <td>Cancer history</td>\n",
       "      <td>Metformin</td>\n",
       "      <td>Normal MRI</td>\n",
       "      <td>Active</td>\n",
       "      <td>Joint pain worsening, recommended physical the...</td>\n",
       "      <td>Heart Disease</td>\n",
       "      <td>Medium</td>\n",
       "    </tr>\n",
       "    <tr>\n",
       "      <th>9</th>\n",
       "      <td>P0010</td>\n",
       "      <td>35</td>\n",
       "      <td>Female</td>\n",
       "      <td>Nausea, vomiting</td>\n",
       "      <td>Cancer history</td>\n",
       "      <td>Donepezil</td>\n",
       "      <td>High blood pressure</td>\n",
       "      <td>Healthy diet</td>\n",
       "      <td>Heart palpitations observed, needs ECG</td>\n",
       "      <td>Heart Disease</td>\n",
       "      <td>High</td>\n",
       "    </tr>\n",
       "    <tr>\n",
       "      <th>11</th>\n",
       "      <td>P0012</td>\n",
       "      <td>39</td>\n",
       "      <td>Male</td>\n",
       "      <td>Rapid heartbeat, sweating</td>\n",
       "      <td>No known history</td>\n",
       "      <td>Levothyroxine</td>\n",
       "      <td>Low white blood cell count</td>\n",
       "      <td>Smoker</td>\n",
       "      <td>Nausea reported, possible gastrointestinal issue</td>\n",
       "      <td>Hypertension</td>\n",
       "      <td>High</td>\n",
       "    </tr>\n",
       "    <tr>\n",
       "      <th>18</th>\n",
       "      <td>P0019</td>\n",
       "      <td>26</td>\n",
       "      <td>Male</td>\n",
       "      <td>Shortness of breath, dizziness</td>\n",
       "      <td>Stroke history</td>\n",
       "      <td>Aspirin</td>\n",
       "      <td>Brain scan abnormality</td>\n",
       "      <td>Active</td>\n",
       "      <td>Mild symptoms but family history is concerning</td>\n",
       "      <td>Arrhythmia</td>\n",
       "      <td>Low</td>\n",
       "    </tr>\n",
       "  </tbody>\n",
       "</table>\n",
       "</div>"
      ],
      "text/plain": [
       "   Patient_ID  Age  Gender                        Symptoms   Medical_History  \\\n",
       "7       P0008   24  Female             Chest pain, fatigue      Hypertension   \n",
       "8       P0009   36  Female          High fever, body aches    Cancer history   \n",
       "9       P0010   35  Female                Nausea, vomiting    Cancer history   \n",
       "11      P0012   39    Male       Rapid heartbeat, sweating  No known history   \n",
       "18      P0019   26    Male  Shortness of breath, dizziness    Stroke history   \n",
       "\n",
       "      Medications                   Lab_Reports     Lifestyle  \\\n",
       "7       Ibuprofen  Irregular heartbeat detected     Sedentary   \n",
       "8       Metformin                    Normal MRI        Active   \n",
       "9       Donepezil           High blood pressure  Healthy diet   \n",
       "11  Levothyroxine    Low white blood cell count        Smoker   \n",
       "18        Aspirin        Brain scan abnormality        Active   \n",
       "\n",
       "                                         Doctor_Notes      Diagnosis  \\\n",
       "7   Patient forgets daily activities, early dement...  Heart Disease   \n",
       "8   Joint pain worsening, recommended physical the...  Heart Disease   \n",
       "9              Heart palpitations observed, needs ECG  Heart Disease   \n",
       "11   Nausea reported, possible gastrointestinal issue   Hypertension   \n",
       "18     Mild symptoms but family history is concerning     Arrhythmia   \n",
       "\n",
       "   Risk_Level  \n",
       "7         Low  \n",
       "8      Medium  \n",
       "9        High  \n",
       "11       High  \n",
       "18        Low  "
      ]
     },
     "execution_count": 6,
     "metadata": {},
     "output_type": "execute_result"
    }
   ],
   "source": [
    "classes_heart_disease = ['Heart Disease', 'Hypertension', 'Arrhythmia']\n",
    "df_heart_disease = df[df['Diagnosis'].isin(classes_heart_disease)].copy()\n",
    "df_heart_disease.head()"
   ]
  },
  {
   "cell_type": "code",
   "execution_count": 7,
   "id": "89c0d96f",
   "metadata": {},
   "outputs": [
    {
     "name": "stdout",
     "output_type": "stream",
     "text": [
      "<class 'pandas.core.frame.DataFrame'>\n",
      "Index: 457 entries, 7 to 1495\n",
      "Data columns (total 11 columns):\n",
      " #   Column           Non-Null Count  Dtype \n",
      "---  ------           --------------  ----- \n",
      " 0   Patient_ID       457 non-null    object\n",
      " 1   Age              457 non-null    int64 \n",
      " 2   Gender           457 non-null    object\n",
      " 3   Symptoms         457 non-null    object\n",
      " 4   Medical_History  457 non-null    object\n",
      " 5   Medications      405 non-null    object\n",
      " 6   Lab_Reports      457 non-null    object\n",
      " 7   Lifestyle        457 non-null    object\n",
      " 8   Doctor_Notes     457 non-null    object\n",
      " 9   Diagnosis        457 non-null    object\n",
      " 10  Risk_Level       457 non-null    object\n",
      "dtypes: int64(1), object(10)\n",
      "memory usage: 42.8+ KB\n"
     ]
    }
   ],
   "source": [
    "df_heart_disease.info()"
   ]
  },
  {
   "cell_type": "markdown",
   "id": "89e7bb90",
   "metadata": {},
   "source": [
    "Binariza o nível de risco para alto risco e baixo risco."
   ]
  },
  {
   "cell_type": "code",
   "execution_count": 8,
   "id": "c34dfe3e",
   "metadata": {},
   "outputs": [],
   "source": [
    "df_heart_disease['Risk_Level_Binary'] = df_heart_disease['Risk_Level'].apply(lambda x: 'High' if x in ['High', 'Medium'] else 'Low')"
   ]
  },
  {
   "cell_type": "code",
   "execution_count": 44,
   "id": "3306c22e",
   "metadata": {},
   "outputs": [
    {
     "name": "stderr",
     "output_type": "stream",
     "text": [
      "Device set to use cuda:0\n"
     ]
    }
   ],
   "source": [
    "generator = pipeline('text-generation', \n",
    "                     model='EleutherAI/gpt-neo-125M', \n",
    "                     max_new_tokens=200, \n",
    "                     num_return_sequences=1, \n",
    "                     temperature=0.6,\n",
    "                     top_k=50,\n",
    "                     do_sample=True, \n",
    "                     pad_token_id=50256)"
   ]
  },
  {
   "cell_type": "code",
   "execution_count": 45,
   "id": "5ab97334",
   "metadata": {},
   "outputs": [],
   "source": [
    "def create_prompt(row):\n",
    "    variacao = random.choice([\n",
    "        \" (You are a 45-year-old office worker.)\",\n",
    "        \" (You are a 60-year-old retiree.)\",\n",
    "        \" (You are a 30-year-old athlete.)\"\n",
    "    ])\n",
    "\n",
    "    return f\"\"\"You are a patient describing your cardiac symptoms in a first-person narrative to a doctor. Based on the details below, write a single, coherent paragraph (150-200 words) in English. Start with \"About a week ago, I started feeling...\" and include:\n",
    "- Vivid description of symptoms ({row['Symptoms']}).\n",
    "- When symptoms began (e.g., a few days or weeks ago).\n",
    "- How they impact your daily routine (work, leisure, rest).\n",
    "- Relevant medical history ({row['Medical_History']}) and lifestyle ({row['Lifestyle']}), woven naturally.\n",
    "- Reflect the diagnosis ({row['Diagnosis']}): e.g., chest pain for Heart Disease, palpitations for Arrhythmia, fatigue for Hypertension.\n",
    "- Convey the risk level subtly: for {row['Risk_Level_Binary']}, use an urgent tone for \"High Risk\" (e.g., \"I'm really worried\") or a manageable tone for \"Low Risk\" (e.g., \"I cope with rest\").\n",
    "Do not add new symptoms or diagnoses. Keep it realistic, varied, and conversational, like a patient speaking. {variacao}\n",
    "\n",
    "Case details:\n",
    "- Symptoms: {row['Symptoms']}\n",
    "- Medical_History: {row['Medical_History']}\n",
    "- Lifestyle: {row['Lifestyle']}\n",
    "- Diagnosis: {row['Diagnosis']}\n",
    "- Risk_Level: {row['Risk_Level_Binary']}\"\"\""
   ]
  },
  {
   "cell_type": "code",
   "execution_count": 51,
   "id": "1e40d142",
   "metadata": {},
   "outputs": [],
   "source": [
    "saida = generator(\"Hello, say me about sky!\")"
   ]
  },
  {
   "cell_type": "code",
   "execution_count": 53,
   "id": "263f9f2d",
   "metadata": {},
   "outputs": [
    {
     "data": {
      "text/plain": [
       "'Hello, say me about sky!\\n\\nHere, here, and here, are my thoughts on the next topic.\\n\\n1. How is it that the sky is so beautiful that you can see it right?\\n\\n2. How is it that the sky is so beautiful that you can see it right?\\n\\n3. How is it that the sky is so beautiful that you can see it right?\\n\\n4. How is it that the sky is so beautiful that you can see it right?\\n\\n5. How is it that the sky is so beautiful that you can see it right?\\n\\n6. How is it that the sky is so beautiful that you can see it right?\\n\\n7. How is it that the sky is so beautiful that you can see it right?\\n\\n8. How is it that the sky is so beautiful that you can see it right?\\n\\n9. How is it that the sky is so beautiful that you can see it right?\\n\\n10'"
      ]
     },
     "execution_count": 53,
     "metadata": {},
     "output_type": "execute_result"
    }
   ],
   "source": [
    "saida[0]['generated_text']"
   ]
  },
  {
   "cell_type": "code",
   "execution_count": 46,
   "id": "bba2050e",
   "metadata": {},
   "outputs": [],
   "source": [
    "N_variations = 1"
   ]
  },
  {
   "cell_type": "code",
   "execution_count": 47,
   "id": "1af19031",
   "metadata": {},
   "outputs": [
    {
     "name": "stdout",
     "output_type": "stream",
     "text": [
      "Dump to the side\n",
      "\n",
      "#    \n",
      "\"Your heart is hurting so much, the rest of your life is too much\"\n",
      "\n",
      "A. V. Khatib\n",
      "\n",
      "A. V. Khatib\n",
      "\n",
      "A. V. Khatib\n",
      "\n",
      "A. V. Khatib\n",
      "\n",
      "A. V. Khatib\n",
      "\n",
      "A. V. Khatib\n",
      "\n",
      "A. V. Khatib\n",
      "\n",
      "A. V. Khatib\n",
      "\n",
      "A. V. Khatib\n",
      "\n",
      "A. V. Khatib\n",
      "\n",
      "A. V. Khatib\n",
      "\n",
      "A. V. Khatib\n",
      "\n",
      "A. V. Khatib\n",
      "\n",
      "A. V. Khatib\n",
      "\n",
      "A. V. Khatib\n",
      "\n",
      "A. V. Khatib\n",
      "\n",
      "A. V. Khatib\n",
      "\n",
      "A. V. Khatib\n",
      "\n",
      "A. V.\n"
     ]
    }
   ],
   "source": [
    "generated_texts = []\n",
    "\n",
    "for idx, row in df_heart_disease[:1].iterrows():\n",
    "    for _ in range(N_variations):\n",
    "        prompt = create_prompt(row)\n",
    "\n",
    "        output = generator(prompt)\n",
    "        text_en = output[0]['generated_text']\n",
    "\n",
    "        # Remove o prompt da saída\n",
    "        if text_en.startswith(prompt):\n",
    "            text_en = text_en[len(prompt):].strip()\n",
    "            \n",
    "        print(text_en)\n",
    "\n",
    "        generated_texts.append({\n",
    "            'frase_en': text_en,\n",
    "            'diagnostico': row['Diagnosis'],\n",
    "            'risco': row['Risk_Level_Binary']\n",
    "        })"
   ]
  },
  {
   "cell_type": "code",
   "execution_count": 48,
   "id": "e8f29765",
   "metadata": {},
   "outputs": [
    {
     "data": {
      "text/html": [
       "<div>\n",
       "<style scoped>\n",
       "    .dataframe tbody tr th:only-of-type {\n",
       "        vertical-align: middle;\n",
       "    }\n",
       "\n",
       "    .dataframe tbody tr th {\n",
       "        vertical-align: top;\n",
       "    }\n",
       "\n",
       "    .dataframe thead th {\n",
       "        text-align: right;\n",
       "    }\n",
       "</style>\n",
       "<table border=\"1\" class=\"dataframe\">\n",
       "  <thead>\n",
       "    <tr style=\"text-align: right;\">\n",
       "      <th></th>\n",
       "      <th>frase_en</th>\n",
       "      <th>diagnostico</th>\n",
       "      <th>risco</th>\n",
       "    </tr>\n",
       "  </thead>\n",
       "  <tbody>\n",
       "    <tr>\n",
       "      <th>0</th>\n",
       "      <td>Dump to the side\\n\\n#    \\n\"Your heart is hurt...</td>\n",
       "      <td>Heart Disease</td>\n",
       "      <td>Low</td>\n",
       "    </tr>\n",
       "  </tbody>\n",
       "</table>\n",
       "</div>"
      ],
      "text/plain": [
       "                                            frase_en    diagnostico risco\n",
       "0  Dump to the side\\n\\n#    \\n\"Your heart is hurt...  Heart Disease   Low"
      ]
     },
     "execution_count": 48,
     "metadata": {},
     "output_type": "execute_result"
    }
   ],
   "source": [
    "df_generated = pd.DataFrame(generated_texts)\n",
    "df_generated.head()"
   ]
  },
  {
   "cell_type": "code",
   "execution_count": 49,
   "id": "81b79261",
   "metadata": {},
   "outputs": [
    {
     "data": {
      "text/plain": [
       "0    Dump to the side\\n\\n#    \\n\"Your heart is hurt...\n",
       "Name: frase_en, dtype: object"
      ]
     },
     "execution_count": 49,
     "metadata": {},
     "output_type": "execute_result"
    }
   ],
   "source": [
    "df_generated[:10]['frase_en']"
   ]
  },
  {
   "cell_type": "code",
   "execution_count": 50,
   "id": "00ea19b3",
   "metadata": {},
   "outputs": [],
   "source": [
    "df_generated[['frase_en', 'diagnostico', 'risco']].to_csv('frases_cardiacas_sinteticas_en.csv', index=False)"
   ]
  }
 ],
 "metadata": {
  "kernelspec": {
   "display_name": "spero-env",
   "language": "python",
   "name": "python3"
  },
  "language_info": {
   "codemirror_mode": {
    "name": "ipython",
    "version": 3
   },
   "file_extension": ".py",
   "mimetype": "text/x-python",
   "name": "python",
   "nbconvert_exporter": "python",
   "pygments_lexer": "ipython3",
   "version": "3.11.11"
  }
 },
 "nbformat": 4,
 "nbformat_minor": 5
}
